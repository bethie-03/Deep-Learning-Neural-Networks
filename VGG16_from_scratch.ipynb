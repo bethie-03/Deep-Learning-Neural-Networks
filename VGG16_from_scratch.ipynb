{
 "cells": [
  {
   "cell_type": "code",
   "execution_count": 1,
   "id": "2090dfb5",
   "metadata": {
    "execution": {
     "iopub.execute_input": "2024-08-04T07:09:50.929839Z",
     "iopub.status.busy": "2024-08-04T07:09:50.929110Z",
     "iopub.status.idle": "2024-08-04T07:09:56.154372Z",
     "shell.execute_reply": "2024-08-04T07:09:56.153622Z"
    },
    "id": "Wr0TwmNN1dnD",
    "papermill": {
     "duration": 5.233854,
     "end_time": "2024-08-04T07:09:56.156839",
     "exception": false,
     "start_time": "2024-08-04T07:09:50.922985",
     "status": "completed"
    },
    "tags": []
   },
   "outputs": [],
   "source": [
    "import numpy as np\n",
    "import torch\n",
    "import torch.nn as nn\n",
    "import torchvision\n",
    "from torchvision import datasets #CIFAR10, CIFAR100\n",
    "from torchvision import transforms\n",
    "from torch.utils.data import DataLoader\n",
    "from torch.utils.data.sampler import SubsetRandomSampler\n",
    "import json\n",
    "import matplotlib.pyplot as plt"
   ]
  },
  {
   "cell_type": "code",
   "execution_count": 2,
   "id": "5d4dd915",
   "metadata": {
    "execution": {
     "iopub.execute_input": "2024-08-04T07:09:56.167682Z",
     "iopub.status.busy": "2024-08-04T07:09:56.167125Z",
     "iopub.status.idle": "2024-08-04T07:09:56.230128Z",
     "shell.execute_reply": "2024-08-04T07:09:56.229335Z"
    },
    "id": "T_wrWm8C_Xsy",
    "outputId": "9c19d7e3-7f2c-4952-b77e-33b939d16684",
    "papermill": {
     "duration": 0.0703,
     "end_time": "2024-08-04T07:09:56.232132",
     "exception": false,
     "start_time": "2024-08-04T07:09:56.161832",
     "status": "completed"
    },
    "tags": []
   },
   "outputs": [
    {
     "data": {
      "text/plain": [
       "device(type='cuda')"
      ]
     },
     "execution_count": 2,
     "metadata": {},
     "output_type": "execute_result"
    }
   ],
   "source": [
    "device = torch.device(\"cuda\" if torch.cuda.is_available() else \"cpu\")\n",
    "device"
   ]
  },
  {
   "cell_type": "code",
   "execution_count": 3,
   "id": "ea2393de",
   "metadata": {
    "execution": {
     "iopub.execute_input": "2024-08-04T07:09:56.241969Z",
     "iopub.status.busy": "2024-08-04T07:09:56.241688Z",
     "iopub.status.idle": "2024-08-04T07:09:58.229865Z",
     "shell.execute_reply": "2024-08-04T07:09:58.228611Z"
    },
    "id": "UemiM3BMe2YU",
    "papermill": {
     "duration": 1.995972,
     "end_time": "2024-08-04T07:09:58.232419",
     "exception": false,
     "start_time": "2024-08-04T07:09:56.236447",
     "status": "completed"
    },
    "tags": []
   },
   "outputs": [],
   "source": [
    "!mkdir '/kaggle/working/weights'\n",
    "!mkdir '/kaggle/working/history_logs'"
   ]
  },
  {
   "cell_type": "code",
   "execution_count": 4,
   "id": "dfa97335",
   "metadata": {
    "execution": {
     "iopub.execute_input": "2024-08-04T07:09:58.243238Z",
     "iopub.status.busy": "2024-08-04T07:09:58.242938Z",
     "iopub.status.idle": "2024-08-04T07:10:04.079528Z",
     "shell.execute_reply": "2024-08-04T07:10:04.078767Z"
    },
    "id": "1eKKEINX_0KT",
    "outputId": "87ccb37e-809d-4482-8229-7322fb9e27b2",
    "papermill": {
     "duration": 5.844815,
     "end_time": "2024-08-04T07:10:04.081843",
     "exception": false,
     "start_time": "2024-08-04T07:09:58.237028",
     "status": "completed"
    },
    "tags": []
   },
   "outputs": [
    {
     "name": "stdout",
     "output_type": "stream",
     "text": [
      "Downloading https://www.cs.toronto.edu/~kriz/cifar-100-python.tar.gz to ./data/cifar-100-python.tar.gz\n"
     ]
    },
    {
     "name": "stderr",
     "output_type": "stream",
     "text": [
      "100%|██████████| 169001437/169001437 [00:02<00:00, 76031677.27it/s]\n"
     ]
    },
    {
     "name": "stdout",
     "output_type": "stream",
     "text": [
      "Extracting ./data/cifar-100-python.tar.gz to ./data\n",
      "Files already downloaded and verified\n"
     ]
    }
   ],
   "source": [
    "def data_loader(data_dir, batch_size, random_seed = 42, shuffle = True, valid_size=0.1, test = False):\n",
    "    transform = transforms.Compose([\n",
    "        transforms.Resize((224, 224)),\n",
    "        transforms.ToTensor(),\n",
    "        transforms.Normalize(\n",
    "            mean = (0.4914, 0.4822, 0.4465),\n",
    "            std = (0.2023, 0.1994, 0.2010)\n",
    "        )\n",
    "    ])\n",
    "\n",
    "    if test:\n",
    "        dataset = datasets.CIFAR100(\n",
    "            root = data_dir,\n",
    "            train = False,\n",
    "            download = True,\n",
    "            transform = transform\n",
    "        )\n",
    "\n",
    "        data_loader = DataLoader(\n",
    "            dataset, batch_size = batch_size, shuffle = shuffle\n",
    "        )\n",
    "\n",
    "        return data_loader\n",
    "\n",
    "    train_dataset = datasets.CIFAR100(\n",
    "        root = data_dir,\n",
    "        train = True,\n",
    "        download = True,\n",
    "        transform = transform\n",
    "    )\n",
    "\n",
    "    '''valid_dataset = datasets.CIFAR10(\n",
    "        root = data_dir,\n",
    "        train = True,\n",
    "        download = True,\n",
    "        transform = transform\n",
    "    )'''\n",
    "\n",
    "    num_train = len(train_dataset)\n",
    "    indices = list(range(num_train))\n",
    "    split = int(np.floor(valid_size*num_train))\n",
    "\n",
    "    if shuffle:\n",
    "      np.random.seed(random_seed)\n",
    "      np.random.shuffle(indices)\n",
    "\n",
    "    train_idx, valid_idx = indices[split:], indices[:split]\n",
    "\n",
    "    train_sampler = SubsetRandomSampler(train_idx)\n",
    "    valid_sampler = SubsetRandomSampler(valid_idx)\n",
    "\n",
    "    train_loader = DataLoader(\n",
    "       train_dataset, batch_size=batch_size, sampler=train_sampler\n",
    "    )\n",
    "\n",
    "    valid_loader = DataLoader(\n",
    "       train_dataset, batch_size=batch_size, sampler=valid_sampler\n",
    "    )\n",
    "\n",
    "    return (train_loader, valid_loader)\n",
    "\n",
    "\n",
    "train_loader, valid_loader = data_loader(data_dir='./data',\n",
    "                                         batch_size=64)\n",
    "\n",
    "test_loader = data_loader(data_dir='./data',\n",
    "                              batch_size=64,\n",
    "                              test=True)"
   ]
  },
  {
   "cell_type": "code",
   "execution_count": 5,
   "id": "d5457f9e",
   "metadata": {
    "execution": {
     "iopub.execute_input": "2024-08-04T07:10:04.096466Z",
     "iopub.status.busy": "2024-08-04T07:10:04.096144Z",
     "iopub.status.idle": "2024-08-04T07:10:04.117515Z",
     "shell.execute_reply": "2024-08-04T07:10:04.116880Z"
    },
    "id": "P8BjUKDRfdkK",
    "papermill": {
     "duration": 0.030927,
     "end_time": "2024-08-04T07:10:04.119389",
     "exception": false,
     "start_time": "2024-08-04T07:10:04.088462",
     "status": "completed"
    },
    "tags": []
   },
   "outputs": [],
   "source": [
    "class VGG16(nn.Module):\n",
    "    def __init__ (self, num_classes = 10):\n",
    "        super(VGG16, self).__init__()\n",
    "\n",
    "        self.layer1 = nn.Sequential(\n",
    "            nn.Conv2d(3, 64, kernel_size=3, stride=1, padding=1),\n",
    "            nn.BatchNorm2d(64),\n",
    "            nn.ReLU()\n",
    "        )\n",
    "\n",
    "        self.layer2 = nn.Sequential(\n",
    "            nn.Conv2d(64, 64, kernel_size=3, stride=1, padding=1),\n",
    "            nn.BatchNorm2d(64),\n",
    "            nn.ReLU(),\n",
    "            nn.MaxPool2d(kernel_size=2, stride=2)\n",
    "        )\n",
    "\n",
    "        self.layer3 = nn.Sequential(\n",
    "            nn.Conv2d(64, 128, kernel_size=3, stride=1, padding=1),\n",
    "            nn.BatchNorm2d(128),\n",
    "            nn.ReLU()\n",
    "        )\n",
    "\n",
    "        self.layer4 = nn.Sequential(\n",
    "            nn.Conv2d(128, 128, kernel_size=3, stride=1, padding=1),\n",
    "            nn.BatchNorm2d(128),\n",
    "            nn.ReLU(),\n",
    "            nn.MaxPool2d(kernel_size=2, stride=2)\n",
    "        )\n",
    "\n",
    "        self.layer5 = nn.Sequential(\n",
    "            nn.Conv2d(128, 256, kernel_size=3, stride=1, padding=1),\n",
    "            nn.BatchNorm2d(256),\n",
    "            nn.ReLU()\n",
    "        )\n",
    "\n",
    "        self.layer6 = nn.Sequential(\n",
    "            nn.Conv2d(256, 256, kernel_size=3, stride=1, padding=1),\n",
    "            nn.BatchNorm2d(256),\n",
    "            nn.ReLU()\n",
    "        )\n",
    "\n",
    "        self.layer7 = nn.Sequential(\n",
    "            nn.Conv2d(256, 256, kernel_size=3, stride=1, padding=1),\n",
    "            nn.BatchNorm2d(256),\n",
    "            nn.ReLU(),\n",
    "            nn.MaxPool2d(kernel_size=2, stride=2)\n",
    "        )\n",
    "\n",
    "        self.layer8 = nn.Sequential(\n",
    "            nn.Conv2d(256, 512, kernel_size=3, stride=1, padding=1),\n",
    "            nn.BatchNorm2d(512),\n",
    "            nn.ReLU()\n",
    "        )\n",
    "\n",
    "        self.layer9 = nn.Sequential(\n",
    "            nn.Conv2d(512, 512, kernel_size=3, stride=1, padding=1),\n",
    "            nn.BatchNorm2d(512),\n",
    "            nn.ReLU()\n",
    "        )\n",
    "\n",
    "        self.layer10 = nn.Sequential(\n",
    "            nn.Conv2d(512, 512, kernel_size=3, stride=1, padding=1),\n",
    "            nn.BatchNorm2d(512),\n",
    "            nn.ReLU(),\n",
    "            nn.MaxPool2d(kernel_size=2, stride=2)\n",
    "        )\n",
    "\n",
    "        self.layer11 = nn.Sequential(\n",
    "            nn.Conv2d(512, 512, kernel_size=3, stride=1, padding=1),\n",
    "            nn.BatchNorm2d(512),\n",
    "            nn.ReLU()\n",
    "        )\n",
    "\n",
    "        self.layer12 = nn.Sequential(\n",
    "            nn.Conv2d(512, 512, kernel_size=3, stride=1, padding=1),\n",
    "            nn.BatchNorm2d(512),\n",
    "            nn.ReLU()\n",
    "        )\n",
    "\n",
    "        self.layer13 = nn.Sequential(\n",
    "            nn.Conv2d(512, 512, kernel_size=3, stride=1, padding=1),\n",
    "            nn.BatchNorm2d(512),\n",
    "            nn.ReLU(),\n",
    "            nn.MaxPool2d(kernel_size=2, stride=2)\n",
    "        )\n",
    "\n",
    "        self.fc = nn.Sequential(\n",
    "            nn.Dropout(0.5),\n",
    "            nn.Linear(7*7*512, 4096),\n",
    "            nn.ReLU()\n",
    "        )\n",
    "\n",
    "        self.fc1 = nn.Sequential(\n",
    "            nn.Dropout(0.5),\n",
    "            nn.Linear(4096, 4096),\n",
    "            nn.ReLU()\n",
    "        )\n",
    "\n",
    "        self.fc2 = nn.Sequential(\n",
    "            nn.Linear(4096, num_classes),\n",
    "        )\n",
    "\n",
    "    def forward(self, x):\n",
    "        out = self.layer1(x)\n",
    "        out = self.layer2(out)\n",
    "        out = self.layer3(out)\n",
    "        out = self.layer4(out)\n",
    "        out = self.layer5(out)\n",
    "        out = self.layer6(out)\n",
    "        out = self.layer7(out)\n",
    "        out = self.layer8(out)\n",
    "        out = self.layer9(out)\n",
    "        out = self.layer10(out)\n",
    "        out = self.layer11(out)\n",
    "        out = self.layer12(out)\n",
    "        out = self.layer13(out)\n",
    "\n",
    "        out = out.reshape(out.size(0), -1)\n",
    "        out = self.fc(out)\n",
    "        out = self.fc1(out)\n",
    "        out = self.fc2(out)\n",
    "\n",
    "        return out"
   ]
  },
  {
   "cell_type": "code",
   "execution_count": 6,
   "id": "b8a2ffb3",
   "metadata": {
    "execution": {
     "iopub.execute_input": "2024-08-04T07:10:04.133791Z",
     "iopub.status.busy": "2024-08-04T07:10:04.133525Z",
     "iopub.status.idle": "2024-08-04T07:10:04.145846Z",
     "shell.execute_reply": "2024-08-04T07:10:04.145056Z"
    },
    "papermill": {
     "duration": 0.021807,
     "end_time": "2024-08-04T07:10:04.147695",
     "exception": false,
     "start_time": "2024-08-04T07:10:04.125888",
     "status": "completed"
    },
    "tags": []
   },
   "outputs": [],
   "source": [
    "import torch.nn as nn\n",
    "\n",
    "class VGG(nn.Module):\n",
    "    def __init__(self, features, num_classes, init_weight = True):\n",
    "        super(VGG, self).__init__()\n",
    "\n",
    "        self.features_layer = features\n",
    "        self.dense_layer = nn.Sequential(\n",
    "            nn.Dropout(0.5),\n",
    "            nn.Linear(7*7*512, 4096),\n",
    "            nn.ReLU(),\n",
    "\n",
    "            nn.Dropout(0.5),\n",
    "            nn.Linear(4096, 4096),\n",
    "            nn.ReLU(),\n",
    "\n",
    "            nn.Linear(4096, num_classes)\n",
    "        )\n",
    "\n",
    "        if init_weight:\n",
    "            self.initialize_weight()\n",
    "        \n",
    "    def forward(self, x):\n",
    "        out = self.features_layer(x)\n",
    "        out = out.reshape(out.size(0), -1)\n",
    "        out = self.dense_layer(out)\n",
    "        return out\n",
    "    \n",
    "    def initialize_weight(self):\n",
    "        for module in self.modules():\n",
    "            if isinstance(module, nn.Conv2d):\n",
    "                nn.init.kaiming_normal_(module.weight, mode='fan_out', nonlinearity='relu')\n",
    "                if module.bias is not None:\n",
    "                    nn.init.constant_(module.bias, 0)\n",
    "\n",
    "            if isinstance(module, nn.BatchNorm2d):\n",
    "                nn.init.constant_(module.weight, 1)\n",
    "                nn.init.constant_(module.bias, 0)\n",
    "\n",
    "            if isinstance(module, nn.Linear):\n",
    "                nn.init.normal_(module.weight, mean=0, std=0.01)\n",
    "                nn.init.constant_(module.bias, 0)\n",
    "\n",
    "def make_layers(cfg, batch_norm = True):\n",
    "    layers = []\n",
    "    in_channels = 3\n",
    "\n",
    "    for v in cfg:\n",
    "        if v=='M':\n",
    "            layers += [nn.MaxPool2d(kernel_size=2, stride=2)]\n",
    "        else:\n",
    "            layers += [nn.Conv2d(in_channels, v, kernel_size=3, stride=1, padding=1)]\n",
    "            if batch_norm:\n",
    "                layers += [nn.BatchNorm2d(v)]\n",
    "            layers+= [nn.ReLU()]\n",
    "            in_channels = v\n",
    "\n",
    "    return nn.Sequential(*layers)"
   ]
  },
  {
   "cell_type": "code",
   "execution_count": 7,
   "id": "095d4440",
   "metadata": {
    "execution": {
     "iopub.execute_input": "2024-08-04T07:10:04.161882Z",
     "iopub.status.busy": "2024-08-04T07:10:04.161563Z",
     "iopub.status.idle": "2024-08-04T07:10:04.174829Z",
     "shell.execute_reply": "2024-08-04T07:10:04.174043Z"
    },
    "id": "Rwbzm4ukQxFk",
    "papermill": {
     "duration": 0.022453,
     "end_time": "2024-08-04T07:10:04.176601",
     "exception": false,
     "start_time": "2024-08-04T07:10:04.154148",
     "status": "completed"
    },
    "tags": []
   },
   "outputs": [],
   "source": [
    "def train(num_epochs, train_loader, valid_loader, classifier, criterion, optimizer, device):\n",
    "    best_val_loss = float('inf')\n",
    "\n",
    "    history_logs = {\n",
    "        'train_loss': [],\n",
    "        'train_accuracy': [],\n",
    "        'val_loss': [],\n",
    "        'val_accuracy': []\n",
    "    }\n",
    "\n",
    "    for epoch in range(num_epochs):\n",
    "        classifier.train()\n",
    "        correct_train = 0\n",
    "        total_train = 0\n",
    "        total_train_loss = 0.0  \n",
    "        for images, labels in train_loader:\n",
    "            images, labels = images.to(device), labels.to(device)\n",
    "            \n",
    "            outputs = classifier(images)\n",
    "            loss = criterion(outputs, labels)\n",
    "            \n",
    "            _, predicted = torch.max(outputs.data, 1)\n",
    "\n",
    "            total_train += labels.size(0)\n",
    "            correct_train += (predicted == labels).sum().item()\n",
    "            total_train_loss += loss.item()  \n",
    "\n",
    "            optimizer.zero_grad()  \n",
    "            loss.backward()\n",
    "            optimizer.step()\n",
    "\n",
    "        average_train_loss = total_train_loss / len(train_loader)\n",
    "        train_accuracy = (correct_train / total_train) * 100\n",
    "\n",
    "        classifier.eval()\n",
    "        with torch.no_grad():\n",
    "            correct = 0\n",
    "            total = 0\n",
    "            total_val_loss = 0.0\n",
    "\n",
    "            for images, labels in valid_loader:\n",
    "                images, labels = images.to(device), labels.to(device)\n",
    "                \n",
    "                outputs = classifier(images)\n",
    "                val_loss = criterion(outputs, labels)\n",
    "\n",
    "                _, predicted = torch.max(outputs.data, 1)\n",
    "\n",
    "                total += labels.size(0)\n",
    "                correct += (predicted == labels).sum().item()\n",
    "                total_val_loss += val_loss.item()\n",
    "\n",
    "                del images, labels, outputs\n",
    "\n",
    "            accuracy = (correct / total) * 100\n",
    "            average_val_loss = total_val_loss / len(valid_loader)\n",
    "\n",
    "        print(f\"Epoch [{epoch+1}/{num_epochs}], Train Loss: {average_train_loss:.4f}, Train Accuracy: {train_accuracy:.2f}%, Val Loss: {average_val_loss:.4f}, Val Accuracy: {accuracy:.2f}%\")\n",
    "\n",
    "        history_logs['train_loss'].append(average_train_loss)\n",
    "        history_logs['train_accuracy'].append(train_accuracy)\n",
    "        history_logs['val_loss'].append(average_val_loss)\n",
    "        history_logs['val_accuracy'].append(accuracy)\n",
    "\n",
    "        if average_val_loss < best_val_loss:\n",
    "            torch.save(classifier.state_dict(), 'weights/best.pt')\n",
    "            best_val_loss = average_val_loss\n",
    "\n",
    "    torch.save(classifier.state_dict(), 'weights/last.pt')\n",
    "\n",
    "    with open('/kaggle/working/history_logs/training_logs.json', 'w') as f:\n",
    "        json.dump(history_logs, f, indent = 4)"
   ]
  },
  {
   "cell_type": "code",
   "execution_count": 8,
   "id": "3fe84eb0",
   "metadata": {
    "execution": {
     "iopub.execute_input": "2024-08-04T07:10:04.190892Z",
     "iopub.status.busy": "2024-08-04T07:10:04.190241Z",
     "iopub.status.idle": "2024-08-04T07:10:04.197469Z",
     "shell.execute_reply": "2024-08-04T07:10:04.196684Z"
    },
    "id": "sJEk15ExWBDc",
    "papermill": {
     "duration": 0.016236,
     "end_time": "2024-08-04T07:10:04.199403",
     "exception": false,
     "start_time": "2024-08-04T07:10:04.183167",
     "status": "completed"
    },
    "tags": []
   },
   "outputs": [],
   "source": [
    "def evaluate(test_loader, classifier, criterion, device):\n",
    "    classifier.eval()\n",
    "    with torch.no_grad():\n",
    "        correct = 0\n",
    "        total = 0\n",
    "        total_loss = 0.0\n",
    "\n",
    "        for images, labels in test_loader:\n",
    "            images = images.to(device)\n",
    "            labels = labels.to(device)\n",
    "\n",
    "            outputs = classifier(images)\n",
    "            loss = criterion(outputs, labels)\n",
    "\n",
    "            _, predicted = torch.max(outputs, 1)\n",
    "            total += labels.size(0)\n",
    "            correct += (predicted == labels).sum().item()\n",
    "            total_loss += loss.item()\n",
    "\n",
    "        accuracy = (correct / total) * 100\n",
    "        average_loss = total_loss / len(test_loader)\n",
    "\n",
    "        print(f'Accuracy of the model on test data: {accuracy:.2f}%')\n",
    "        print(f'Average loss of the model on test data: {average_loss:.4f}')"
   ]
  },
  {
   "cell_type": "code",
   "execution_count": 9,
   "id": "80ccb255",
   "metadata": {
    "execution": {
     "iopub.execute_input": "2024-08-04T07:10:04.213512Z",
     "iopub.status.busy": "2024-08-04T07:10:04.213078Z",
     "iopub.status.idle": "2024-08-04T07:10:06.913612Z",
     "shell.execute_reply": "2024-08-04T07:10:06.912683Z"
    },
    "id": "cYub3sguQ3Fh",
    "papermill": {
     "duration": 2.710661,
     "end_time": "2024-08-04T07:10:06.916565",
     "exception": false,
     "start_time": "2024-08-04T07:10:04.205904",
     "status": "completed"
    },
    "tags": []
   },
   "outputs": [],
   "source": [
    "num_classes = 100\n",
    "num_epochs = 40\n",
    "batch_size = 64\n",
    "learning_rate = 0.001\n",
    "\n",
    "vgg16_config = [64, 64, 'M', 128, 128, 'M', 256, 256, 256, 'M', 512, 512, 512, 'M', 512, 512, 512, 'M']\n",
    "vgg16_classifier = VGG(make_layers(vgg16_config), num_classes).to(device)\n",
    "\n",
    "criterion = nn.CrossEntropyLoss()\n",
    "optimizer = torch.optim.SGD(vgg16_classifier.parameters(), lr=learning_rate)"
   ]
  },
  {
   "cell_type": "code",
   "execution_count": 10,
   "id": "bc6357a8",
   "metadata": {
    "execution": {
     "iopub.execute_input": "2024-08-04T07:10:06.931752Z",
     "iopub.status.busy": "2024-08-04T07:10:06.931406Z",
     "iopub.status.idle": "2024-08-04T11:28:54.542461Z",
     "shell.execute_reply": "2024-08-04T11:28:54.541665Z"
    },
    "id": "llcqZYn1Ym7O",
    "outputId": "54a830cc-386f-4666-d817-dc21f257db0b",
    "papermill": {
     "duration": 15527.620811,
     "end_time": "2024-08-04T11:28:54.544803",
     "exception": false,
     "start_time": "2024-08-04T07:10:06.923992",
     "status": "completed"
    },
    "tags": []
   },
   "outputs": [
    {
     "name": "stdout",
     "output_type": "stream",
     "text": [
      "Epoch [1/40], Train Loss: 4.6069, Train Accuracy: 2.04%, Val Loss: 4.3235, Val Accuracy: 6.80%\n",
      "Epoch [2/40], Train Loss: 4.3623, Train Accuracy: 4.41%, Val Loss: 4.1079, Val Accuracy: 8.10%\n",
      "Epoch [3/40], Train Loss: 4.1550, Train Accuracy: 6.68%, Val Loss: 3.9302, Val Accuracy: 10.06%\n",
      "Epoch [4/40], Train Loss: 4.0152, Train Accuracy: 8.52%, Val Loss: 3.8019, Val Accuracy: 12.68%\n",
      "Epoch [5/40], Train Loss: 3.8824, Train Accuracy: 10.24%, Val Loss: 3.6734, Val Accuracy: 15.36%\n",
      "Epoch [6/40], Train Loss: 3.7677, Train Accuracy: 12.32%, Val Loss: 3.5437, Val Accuracy: 16.64%\n",
      "Epoch [7/40], Train Loss: 3.6594, Train Accuracy: 13.97%, Val Loss: 3.4395, Val Accuracy: 18.62%\n",
      "Epoch [8/40], Train Loss: 3.5619, Train Accuracy: 15.70%, Val Loss: 3.3774, Val Accuracy: 18.82%\n",
      "Epoch [9/40], Train Loss: 3.4863, Train Accuracy: 17.01%, Val Loss: 3.2908, Val Accuracy: 20.28%\n",
      "Epoch [10/40], Train Loss: 3.4076, Train Accuracy: 18.39%, Val Loss: 3.2385, Val Accuracy: 21.20%\n",
      "Epoch [11/40], Train Loss: 3.3398, Train Accuracy: 19.48%, Val Loss: 3.1893, Val Accuracy: 22.36%\n",
      "Epoch [12/40], Train Loss: 3.2728, Train Accuracy: 20.72%, Val Loss: 3.1238, Val Accuracy: 23.00%\n",
      "Epoch [13/40], Train Loss: 3.2165, Train Accuracy: 21.85%, Val Loss: 3.0967, Val Accuracy: 24.48%\n",
      "Epoch [14/40], Train Loss: 3.1725, Train Accuracy: 22.62%, Val Loss: 3.0119, Val Accuracy: 25.50%\n",
      "Epoch [15/40], Train Loss: 3.1206, Train Accuracy: 23.64%, Val Loss: 2.9953, Val Accuracy: 25.68%\n",
      "Epoch [16/40], Train Loss: 3.0705, Train Accuracy: 24.36%, Val Loss: 2.9665, Val Accuracy: 26.44%\n",
      "Epoch [17/40], Train Loss: 3.0229, Train Accuracy: 25.43%, Val Loss: 2.8913, Val Accuracy: 28.14%\n",
      "Epoch [18/40], Train Loss: 2.9856, Train Accuracy: 26.04%, Val Loss: 2.8781, Val Accuracy: 27.84%\n",
      "Epoch [19/40], Train Loss: 2.9418, Train Accuracy: 26.61%, Val Loss: 2.8497, Val Accuracy: 28.62%\n",
      "Epoch [20/40], Train Loss: 2.8980, Train Accuracy: 27.65%, Val Loss: 2.8314, Val Accuracy: 29.42%\n",
      "Epoch [21/40], Train Loss: 2.8635, Train Accuracy: 28.18%, Val Loss: 2.8121, Val Accuracy: 30.10%\n",
      "Epoch [22/40], Train Loss: 2.8216, Train Accuracy: 29.30%, Val Loss: 2.7805, Val Accuracy: 30.20%\n",
      "Epoch [23/40], Train Loss: 2.7854, Train Accuracy: 29.91%, Val Loss: 2.7556, Val Accuracy: 30.56%\n",
      "Epoch [24/40], Train Loss: 2.7483, Train Accuracy: 30.57%, Val Loss: 2.7013, Val Accuracy: 31.62%\n",
      "Epoch [25/40], Train Loss: 2.7103, Train Accuracy: 31.24%, Val Loss: 2.7038, Val Accuracy: 31.50%\n",
      "Epoch [26/40], Train Loss: 2.6746, Train Accuracy: 32.06%, Val Loss: 2.6879, Val Accuracy: 33.00%\n",
      "Epoch [27/40], Train Loss: 2.6452, Train Accuracy: 32.62%, Val Loss: 2.7259, Val Accuracy: 31.34%\n",
      "Epoch [28/40], Train Loss: 2.6153, Train Accuracy: 33.53%, Val Loss: 2.7124, Val Accuracy: 32.18%\n",
      "Epoch [29/40], Train Loss: 2.5730, Train Accuracy: 34.34%, Val Loss: 2.6391, Val Accuracy: 33.70%\n",
      "Epoch [30/40], Train Loss: 2.5507, Train Accuracy: 34.46%, Val Loss: 2.5290, Val Accuracy: 34.52%\n",
      "Epoch [31/40], Train Loss: 2.5145, Train Accuracy: 35.23%, Val Loss: 2.5954, Val Accuracy: 34.52%\n",
      "Epoch [32/40], Train Loss: 2.4850, Train Accuracy: 36.15%, Val Loss: 2.5600, Val Accuracy: 34.94%\n",
      "Epoch [33/40], Train Loss: 2.4571, Train Accuracy: 36.47%, Val Loss: 2.5427, Val Accuracy: 35.38%\n",
      "Epoch [34/40], Train Loss: 2.4257, Train Accuracy: 37.19%, Val Loss: 2.6028, Val Accuracy: 34.64%\n",
      "Epoch [35/40], Train Loss: 2.3955, Train Accuracy: 37.60%, Val Loss: 2.5741, Val Accuracy: 35.14%\n",
      "Epoch [36/40], Train Loss: 2.3635, Train Accuracy: 38.68%, Val Loss: 2.4478, Val Accuracy: 37.90%\n",
      "Epoch [37/40], Train Loss: 2.3407, Train Accuracy: 39.06%, Val Loss: 2.4883, Val Accuracy: 36.68%\n",
      "Epoch [38/40], Train Loss: 2.3132, Train Accuracy: 39.64%, Val Loss: 2.4625, Val Accuracy: 37.12%\n",
      "Epoch [39/40], Train Loss: 2.2877, Train Accuracy: 40.04%, Val Loss: 2.4220, Val Accuracy: 37.94%\n",
      "Epoch [40/40], Train Loss: 2.2563, Train Accuracy: 40.71%, Val Loss: 2.4438, Val Accuracy: 37.48%\n"
     ]
    }
   ],
   "source": [
    "train(num_epochs, train_loader, valid_loader, vgg16_classifier, criterion, optimizer, device)"
   ]
  },
  {
   "cell_type": "code",
   "execution_count": 11,
   "id": "e5ec701a",
   "metadata": {
    "execution": {
     "iopub.execute_input": "2024-08-04T11:28:54.565588Z",
     "iopub.status.busy": "2024-08-04T11:28:54.565300Z",
     "iopub.status.idle": "2024-08-04T11:29:34.656079Z",
     "shell.execute_reply": "2024-08-04T11:29:34.655169Z"
    },
    "id": "EIgSCQjIYoGM",
    "papermill": {
     "duration": 40.113765,
     "end_time": "2024-08-04T11:29:34.668368",
     "exception": false,
     "start_time": "2024-08-04T11:28:54.554603",
     "status": "completed"
    },
    "tags": []
   },
   "outputs": [
    {
     "name": "stdout",
     "output_type": "stream",
     "text": [
      "Accuracy of the model on test data: 37.55%\n",
      "Average loss of the model on test data: 2.4533\n"
     ]
    }
   ],
   "source": [
    "evaluate(test_loader, vgg16_classifier, criterion, device)"
   ]
  },
  {
   "cell_type": "code",
   "execution_count": 12,
   "id": "040b3495",
   "metadata": {
    "execution": {
     "iopub.execute_input": "2024-08-04T11:29:34.688719Z",
     "iopub.status.busy": "2024-08-04T11:29:34.688152Z",
     "iopub.status.idle": "2024-08-04T11:29:35.332806Z",
     "shell.execute_reply": "2024-08-04T11:29:35.331909Z"
    },
    "papermill": {
     "duration": 0.657244,
     "end_time": "2024-08-04T11:29:35.335039",
     "exception": false,
     "start_time": "2024-08-04T11:29:34.677795",
     "status": "completed"
    },
    "tags": []
   },
   "outputs": [
    {
     "data": {
      "image/png": "[encoded data removed]",
      "text/plain": [
       "<Figure size 1000x500 with 1 Axes>"
      ]
     },
     "metadata": {},
     "output_type": "display_data"
    },
    {
     "data": {
      "image/png": "[encoded data removed]",
      "text/plain": [
       "<Figure size 1000x500 with 1 Axes>"
      ]
     },
     "metadata": {},
     "output_type": "display_data"
    }
   ],
   "source": [
    "with open('/kaggle/working/history_logs/training_logs.json', 'r') as f:\n",
    "    logs = json.load(f)\n",
    "\n",
    "plt.figure(figsize=(10, 5))\n",
    "plt.plot(logs['train_loss'], label='Train Loss')\n",
    "plt.plot(logs['val_loss'], label='Validation Loss')\n",
    "plt.xlabel('Epoch')\n",
    "plt.ylabel('Loss')\n",
    "plt.title('Train and Validation Loss')\n",
    "plt.legend()\n",
    "plt.show()\n",
    "\n",
    "plt.figure(figsize=(10, 5))\n",
    "plt.plot(logs['train_accuracy'], label='Train Accuracy')\n",
    "plt.plot(logs['val_accuracy'], label='Validation Accuracy')\n",
    "plt.xlabel('Epoch')\n",
    "plt.ylabel('Accuracy')\n",
    "plt.title('Train and Validation Accuracy')\n",
    "plt.legend()\n",
    "plt.show()"
   ]
  }
 ],
 "metadata": {
  "accelerator": "GPU",
  "colab": {
   "gpuType": "T4",
   "provenance": []
  },
  "kaggle": {
   "accelerator": "gpu",
   "dataSources": [],
   "dockerImageVersionId": 30747,
   "isGpuEnabled": true,
   "isInternetEnabled": true,
   "language": "python",
   "sourceType": "notebook"
  },
  "kernelspec": {
   "display_name": "Python 3",
   "language": "python",
   "name": "python3"
  },
  "language_info": {
   "codemirror_mode": {
    "name": "ipython",
    "version": 3
   },
   "file_extension": ".py",
   "mimetype": "text/x-python",
   "name": "python",
   "nbconvert_exporter": "python",
   "pygments_lexer": "ipython3",
   "version": "3.10.13"
  },
  "papermill": {
   "default_parameters": {},
   "duration": 15588.655667,
   "end_time": "2024-08-04T11:29:36.798289",
   "environment_variables": {},
   "exception": null,
   "input_path": "__notebook__.ipynb",
   "output_path": "__notebook__.ipynb",
   "parameters": {},
   "start_time": "2024-08-04T07:09:48.142622",
   "version": "2.5.0"
  }
 },
 "nbformat": 4,
 "nbformat_minor": 5
}
