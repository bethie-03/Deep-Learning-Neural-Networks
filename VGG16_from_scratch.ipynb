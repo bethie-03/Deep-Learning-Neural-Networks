{
 "cells": [
  {
   "cell_type": "code",
   "execution_count": 1,
   "id": "cd436577",
   "metadata": {
    "execution": {
     "iopub.execute_input": "2024-08-04T18:43:20.833695Z",
     "iopub.status.busy": "2024-08-04T18:43:20.833397Z",
     "iopub.status.idle": "2024-08-04T18:43:28.439239Z",
     "shell.execute_reply": "2024-08-04T18:43:28.438259Z"
    },
    "id": "Wr0TwmNN1dnD",
    "papermill": {
     "duration": 7.614272,
     "end_time": "2024-08-04T18:43:28.441755",
     "exception": false,
     "start_time": "2024-08-04T18:43:20.827483",
     "status": "completed"
    },
    "tags": []
   },
   "outputs": [],
   "source": [
    "import numpy as np\n",
    "import torch\n",
    "import torch.nn as nn\n",
    "import torchvision\n",
    "from torchvision import datasets #CIFAR10, CIFAR100\n",
    "from torchvision import transforms\n",
    "from torch.utils.data import DataLoader\n",
    "from torch.utils.data.sampler import SubsetRandomSampler\n",
    "import json\n",
    "import matplotlib.pyplot as plt\n",
    "from torchmetrics import Precision, Recall, Accuracy"
   ]
  },
  {
   "cell_type": "code",
   "execution_count": 2,
   "id": "43682d09",
   "metadata": {
    "execution": {
     "iopub.execute_input": "2024-08-04T18:43:28.452400Z",
     "iopub.status.busy": "2024-08-04T18:43:28.452020Z",
     "iopub.status.idle": "2024-08-04T18:43:28.514414Z",
     "shell.execute_reply": "2024-08-04T18:43:28.513617Z"
    },
    "id": "T_wrWm8C_Xsy",
    "outputId": "9c19d7e3-7f2c-4952-b77e-33b939d16684",
    "papermill": {
     "duration": 0.070017,
     "end_time": "2024-08-04T18:43:28.516682",
     "exception": false,
     "start_time": "2024-08-04T18:43:28.446665",
     "status": "completed"
    },
    "tags": []
   },
   "outputs": [
    {
     "data": {
      "text/plain": [
       "device(type='cuda')"
      ]
     },
     "execution_count": 2,
     "metadata": {},
     "output_type": "execute_result"
    }
   ],
   "source": [
    "device = torch.device(\"cuda\" if torch.cuda.is_available() else \"cpu\")\n",
    "device"
   ]
  },
  {
   "cell_type": "code",
   "execution_count": 3,
   "id": "d223d8e1",
   "metadata": {
    "execution": {
     "iopub.execute_input": "2024-08-04T18:43:28.526910Z",
     "iopub.status.busy": "2024-08-04T18:43:28.526618Z",
     "iopub.status.idle": "2024-08-04T18:43:30.509234Z",
     "shell.execute_reply": "2024-08-04T18:43:30.507959Z"
    },
    "id": "UemiM3BMe2YU",
    "papermill": {
     "duration": 1.990378,
     "end_time": "2024-08-04T18:43:30.511618",
     "exception": false,
     "start_time": "2024-08-04T18:43:28.521240",
     "status": "completed"
    },
    "tags": []
   },
   "outputs": [],
   "source": [
    "!mkdir '/kaggle/working/weights'\n",
    "!mkdir '/kaggle/working/history'"
   ]
  },
  {
   "cell_type": "code",
   "execution_count": 4,
   "id": "2b6c9fa4",
   "metadata": {
    "execution": {
     "iopub.execute_input": "2024-08-04T18:43:30.523480Z",
     "iopub.status.busy": "2024-08-04T18:43:30.522640Z",
     "iopub.status.idle": "2024-08-04T18:43:30.534017Z",
     "shell.execute_reply": "2024-08-04T18:43:30.533112Z"
    },
    "id": "1eKKEINX_0KT",
    "outputId": "87ccb37e-809d-4482-8229-7322fb9e27b2",
    "papermill": {
     "duration": 0.019212,
     "end_time": "2024-08-04T18:43:30.535956",
     "exception": false,
     "start_time": "2024-08-04T18:43:30.516744",
     "status": "completed"
    },
    "tags": []
   },
   "outputs": [],
   "source": [
    "def data_loader(data_dir, batch_size, random_seed = 42, shuffle = True, valid_size=0.1, test = False):\n",
    "    transform = transforms.Compose([\n",
    "        transforms.Resize((224, 224)),\n",
    "        transforms.ToTensor(),\n",
    "        transforms.Normalize(\n",
    "            mean = (0.4914, 0.4822, 0.4465),\n",
    "            std = (0.2023, 0.1994, 0.2010)\n",
    "        )\n",
    "    ])\n",
    "\n",
    "    if test:\n",
    "        dataset = datasets.CIFAR100(\n",
    "            root = data_dir,\n",
    "            train = False,\n",
    "            download = True,\n",
    "            transform = transform\n",
    "        )\n",
    "\n",
    "        data_loader = DataLoader(\n",
    "            dataset, batch_size = batch_size, shuffle = shuffle\n",
    "        )\n",
    "\n",
    "        return data_loader\n",
    "\n",
    "    train_dataset = datasets.CIFAR100(\n",
    "        root = data_dir,\n",
    "        train = True,\n",
    "        download = True,\n",
    "        transform = transform\n",
    "    )\n",
    "\n",
    "    '''valid_dataset = datasets.CIFAR10(\n",
    "        root = data_dir,\n",
    "        train = True,\n",
    "        download = True,\n",
    "        transform = transform\n",
    "    )'''\n",
    "\n",
    "    num_train = len(train_dataset)\n",
    "    indices = list(range(num_train))\n",
    "    split = int(np.floor(valid_size*num_train))\n",
    "\n",
    "    if shuffle:\n",
    "      np.random.seed(random_seed)\n",
    "      np.random.shuffle(indices)\n",
    "\n",
    "    train_idx, valid_idx = indices[split:], indices[:split]\n",
    "\n",
    "    train_sampler = SubsetRandomSampler(train_idx)\n",
    "    valid_sampler = SubsetRandomSampler(valid_idx)\n",
    "\n",
    "    train_loader = DataLoader(\n",
    "       train_dataset, batch_size=batch_size, sampler=train_sampler\n",
    "    )\n",
    "\n",
    "    valid_loader = DataLoader(\n",
    "       train_dataset, batch_size=batch_size, sampler=valid_sampler\n",
    "    )\n",
    "\n",
    "    return (train_loader, valid_loader)"
   ]
  },
  {
   "cell_type": "code",
   "execution_count": 5,
   "id": "29213284",
   "metadata": {
    "execution": {
     "iopub.execute_input": "2024-08-04T18:43:30.546601Z",
     "iopub.status.busy": "2024-08-04T18:43:30.546294Z",
     "iopub.status.idle": "2024-08-04T18:43:30.567043Z",
     "shell.execute_reply": "2024-08-04T18:43:30.566129Z"
    },
    "id": "P8BjUKDRfdkK",
    "papermill": {
     "duration": 0.028482,
     "end_time": "2024-08-04T18:43:30.569032",
     "exception": false,
     "start_time": "2024-08-04T18:43:30.540550",
     "status": "completed"
    },
    "tags": []
   },
   "outputs": [],
   "source": [
    "class VGG16(nn.Module):\n",
    "    def __init__ (self, num_classes = 10):\n",
    "        super(VGG16, self).__init__()\n",
    "\n",
    "        self.layer1 = nn.Sequential(\n",
    "            nn.Conv2d(3, 64, kernel_size=3, stride=1, padding=1),\n",
    "            nn.BatchNorm2d(64),\n",
    "            nn.ReLU()\n",
    "        )\n",
    "\n",
    "        self.layer2 = nn.Sequential(\n",
    "            nn.Conv2d(64, 64, kernel_size=3, stride=1, padding=1),\n",
    "            nn.BatchNorm2d(64),\n",
    "            nn.ReLU(),\n",
    "            nn.MaxPool2d(kernel_size=2, stride=2)\n",
    "        )\n",
    "\n",
    "        self.layer3 = nn.Sequential(\n",
    "            nn.Conv2d(64, 128, kernel_size=3, stride=1, padding=1),\n",
    "            nn.BatchNorm2d(128),\n",
    "            nn.ReLU()\n",
    "        )\n",
    "\n",
    "        self.layer4 = nn.Sequential(\n",
    "            nn.Conv2d(128, 128, kernel_size=3, stride=1, padding=1),\n",
    "            nn.BatchNorm2d(128),\n",
    "            nn.ReLU(),\n",
    "            nn.MaxPool2d(kernel_size=2, stride=2)\n",
    "        )\n",
    "\n",
    "        self.layer5 = nn.Sequential(\n",
    "            nn.Conv2d(128, 256, kernel_size=3, stride=1, padding=1),\n",
    "            nn.BatchNorm2d(256),\n",
    "            nn.ReLU()\n",
    "        )\n",
    "\n",
    "        self.layer6 = nn.Sequential(\n",
    "            nn.Conv2d(256, 256, kernel_size=3, stride=1, padding=1),\n",
    "            nn.BatchNorm2d(256),\n",
    "            nn.ReLU()\n",
    "        )\n",
    "\n",
    "        self.layer7 = nn.Sequential(\n",
    "            nn.Conv2d(256, 256, kernel_size=3, stride=1, padding=1),\n",
    "            nn.BatchNorm2d(256),\n",
    "            nn.ReLU(),\n",
    "            nn.MaxPool2d(kernel_size=2, stride=2)\n",
    "        )\n",
    "\n",
    "        self.layer8 = nn.Sequential(\n",
    "            nn.Conv2d(256, 512, kernel_size=3, stride=1, padding=1),\n",
    "            nn.BatchNorm2d(512),\n",
    "            nn.ReLU()\n",
    "        )\n",
    "\n",
    "        self.layer9 = nn.Sequential(\n",
    "            nn.Conv2d(512, 512, kernel_size=3, stride=1, padding=1),\n",
    "            nn.BatchNorm2d(512),\n",
    "            nn.ReLU()\n",
    "        )\n",
    "\n",
    "        self.layer10 = nn.Sequential(\n",
    "            nn.Conv2d(512, 512, kernel_size=3, stride=1, padding=1),\n",
    "            nn.BatchNorm2d(512),\n",
    "            nn.ReLU(),\n",
    "            nn.MaxPool2d(kernel_size=2, stride=2)\n",
    "        )\n",
    "\n",
    "        self.layer11 = nn.Sequential(\n",
    "            nn.Conv2d(512, 512, kernel_size=3, stride=1, padding=1),\n",
    "            nn.BatchNorm2d(512),\n",
    "            nn.ReLU()\n",
    "        )\n",
    "\n",
    "        self.layer12 = nn.Sequential(\n",
    "            nn.Conv2d(512, 512, kernel_size=3, stride=1, padding=1),\n",
    "            nn.BatchNorm2d(512),\n",
    "            nn.ReLU()\n",
    "        )\n",
    "\n",
    "        self.layer13 = nn.Sequential(\n",
    "            nn.Conv2d(512, 512, kernel_size=3, stride=1, padding=1),\n",
    "            nn.BatchNorm2d(512),\n",
    "            nn.ReLU(),\n",
    "            nn.MaxPool2d(kernel_size=2, stride=2)\n",
    "        )\n",
    "\n",
    "        self.fc = nn.Sequential(\n",
    "            nn.Dropout(0.5),\n",
    "            nn.Linear(7*7*512, 4096),\n",
    "            nn.ReLU()\n",
    "        )\n",
    "\n",
    "        self.fc1 = nn.Sequential(\n",
    "            nn.Dropout(0.5),\n",
    "            nn.Linear(4096, 4096),\n",
    "            nn.ReLU()\n",
    "        )\n",
    "\n",
    "        self.fc2 = nn.Sequential(\n",
    "            nn.Linear(4096, num_classes),\n",
    "        )\n",
    "\n",
    "    def forward(self, x):\n",
    "        out = self.layer1(x)\n",
    "        out = self.layer2(out)\n",
    "        out = self.layer3(out)\n",
    "        out = self.layer4(out)\n",
    "        out = self.layer5(out)\n",
    "        out = self.layer6(out)\n",
    "        out = self.layer7(out)\n",
    "        out = self.layer8(out)\n",
    "        out = self.layer9(out)\n",
    "        out = self.layer10(out)\n",
    "        out = self.layer11(out)\n",
    "        out = self.layer12(out)\n",
    "        out = self.layer13(out)\n",
    "\n",
    "        out = out.reshape(out.size(0), -1)\n",
    "        out = self.fc(out)\n",
    "        out = self.fc1(out)\n",
    "        out = self.fc2(out)\n",
    "\n",
    "        return out"
   ]
  },
  {
   "cell_type": "code",
   "execution_count": 6,
   "id": "7bb897cb",
   "metadata": {
    "execution": {
     "iopub.execute_input": "2024-08-04T18:43:30.579921Z",
     "iopub.status.busy": "2024-08-04T18:43:30.579408Z",
     "iopub.status.idle": "2024-08-04T18:43:30.592030Z",
     "shell.execute_reply": "2024-08-04T18:43:30.591162Z"
    },
    "papermill": {
     "duration": 0.020315,
     "end_time": "2024-08-04T18:43:30.593956",
     "exception": false,
     "start_time": "2024-08-04T18:43:30.573641",
     "status": "completed"
    },
    "tags": []
   },
   "outputs": [],
   "source": [
    "import torch.nn as nn\n",
    "\n",
    "class VGG(nn.Module):\n",
    "    def __init__(self, features, num_classes, init_weight = True):\n",
    "        super(VGG, self).__init__()\n",
    "\n",
    "        self.features_layer = features\n",
    "        self.dense_layer = nn.Sequential(\n",
    "            nn.Dropout(0.5),\n",
    "            nn.Linear(7*7*512, 4096),\n",
    "            nn.ReLU(),\n",
    "\n",
    "            nn.Dropout(0.5),\n",
    "            nn.Linear(4096, 4096),\n",
    "            nn.ReLU(),\n",
    "\n",
    "            nn.Linear(4096, num_classes)\n",
    "        )\n",
    "\n",
    "        if init_weight:\n",
    "            self.initialize_weight()\n",
    "        \n",
    "    def forward(self, x):\n",
    "        out = self.features_layer(x)\n",
    "        out = out.reshape(out.size(0), -1)\n",
    "        out = self.dense_layer(out)\n",
    "        return out\n",
    "    \n",
    "    def initialize_weight(self):\n",
    "        for module in self.modules():\n",
    "            if isinstance(module, nn.Conv2d):\n",
    "                nn.init.kaiming_normal_(module.weight, mode='fan_out', nonlinearity='relu')\n",
    "                if module.bias is not None:\n",
    "                    nn.init.constant_(module.bias, 0)\n",
    "\n",
    "            if isinstance(module, nn.BatchNorm2d):\n",
    "                nn.init.constant_(module.weight, 1)\n",
    "                nn.init.constant_(module.bias, 0)\n",
    "\n",
    "            if isinstance(module, nn.Linear):\n",
    "                nn.init.normal_(module.weight, mean=0, std=0.01)\n",
    "                nn.init.constant_(module.bias, 0)\n",
    "\n",
    "def make_layers(cfg, batch_norm = True):\n",
    "    layers = []\n",
    "    in_channels = 3\n",
    "\n",
    "    for v in cfg:\n",
    "        if v=='M':\n",
    "            layers += [nn.MaxPool2d(kernel_size=2, stride=2)]\n",
    "        else:\n",
    "            layers += [nn.Conv2d(in_channels, v, kernel_size=3, stride=1, padding=1)]\n",
    "            if batch_norm:\n",
    "                layers += [nn.BatchNorm2d(v)]\n",
    "            layers+= [nn.ReLU()]\n",
    "            in_channels = v\n",
    "\n",
    "    return nn.Sequential(*layers)"
   ]
  },
  {
   "cell_type": "code",
   "execution_count": 7,
   "id": "0c6d7755",
   "metadata": {
    "execution": {
     "iopub.execute_input": "2024-08-04T18:43:30.604370Z",
     "iopub.status.busy": "2024-08-04T18:43:30.604088Z",
     "iopub.status.idle": "2024-08-04T18:43:30.620264Z",
     "shell.execute_reply": "2024-08-04T18:43:30.619388Z"
    },
    "id": "Rwbzm4ukQxFk",
    "papermill": {
     "duration": 0.023637,
     "end_time": "2024-08-04T18:43:30.622144",
     "exception": false,
     "start_time": "2024-08-04T18:43:30.598507",
     "status": "completed"
    },
    "tags": []
   },
   "outputs": [],
   "source": [
    "def train(num_epochs, train_loader, valid_loader, classifier, metrics, criterion, optimizer, device):\n",
    "    best_val_loss = float('inf')\n",
    "    history_train_logs = {'Loss': []}\n",
    "    history_val_logs = {'Loss': []}\n",
    "    \n",
    "    for epoch in range(num_epochs):\n",
    "        #training\n",
    "        classifier.train()\n",
    "        total_train_loss = 0.0\n",
    "        for metric in metrics.values():\n",
    "            metric.reset()\n",
    "        \n",
    "        for images, labels in train_loader:\n",
    "            images, labels = images.to(device), labels.to(device)\n",
    "            \n",
    "            outputs = classifier(images)\n",
    "            loss = criterion(outputs, labels)\n",
    "            _, predicted = torch.max(outputs.data, 1)\n",
    "            \n",
    "            total_train_loss += loss.item()\n",
    "            for metric in metrics.values():\n",
    "                metric.update(predicted, labels)\n",
    "            \n",
    "            optimizer.zero_grad()\n",
    "            loss.backward()\n",
    "            optimizer.step()\n",
    "\n",
    "        average_train_loss = total_train_loss / len(train_loader)\n",
    "        history_train_logs['Loss'].append(average_train_loss)\n",
    "                \n",
    "        result = f\"Epoch [{epoch+1}/{num_epochs}], Train Loss: {average_train_loss:.4f}\"\n",
    "        \n",
    "        for metric_name, metric in zip(metrics.keys(), metrics.values()):\n",
    "            metric_value = metric.compute().item()\n",
    "            result += f', {metric_name}: {metric_value:.2f}'\n",
    "            if epoch == 0:\n",
    "                history_train_logs[f'{metric_name}'] = [metric_value]\n",
    "            else:\n",
    "                history_train_logs[f'{metric_name}'].append(metric_value)\n",
    "            \n",
    "        #validating\n",
    "        with torch.no_grad():\n",
    "            classifier.eval()\n",
    "            total_val_loss = 0.0\n",
    "            for metric in metrics.values():\n",
    "                metric.reset()\n",
    "            \n",
    "            for images, labels in valid_loader:\n",
    "                images, labels = images.to(device), labels.to(device)\n",
    "                \n",
    "                outputs = classifier(images)\n",
    "                val_loss = criterion(outputs, labels)\n",
    "                _, predicted = torch.max(outputs.data, 1)\n",
    "\n",
    "                total_val_loss += val_loss.item()\n",
    "                for metric in metrics.values():\n",
    "                    metric.update(predicted, labels)\n",
    "\n",
    "                del images, labels, outputs\n",
    "\n",
    "            average_val_loss = total_val_loss / len(valid_loader)\n",
    "            history_val_logs['Loss'].append(average_val_loss)\n",
    "            \n",
    "            result += f', Val Loss: {average_val_loss:.4f}'\n",
    "            for metric_name, metric in zip(metrics.keys(), metrics.values()):\n",
    "                metric_value = metric.compute().item()\n",
    "                result += f',  Val {metric_name}: {metric_value:.2f}'\n",
    "                if epoch == 0:\n",
    "                    history_val_logs[f'{metric_name}'] = [metric_value]\n",
    "                else:\n",
    "                    history_val_logs[f'{metric_name}'].append(metric_value)\n",
    "        \n",
    "        print(result)\n",
    "        if average_val_loss < best_val_loss:\n",
    "            torch.save(classifier.state_dict(), '/kaggle/working/weights/best.pt')\n",
    "            best_val_loss = average_val_loss\n",
    "\n",
    "    torch.save(classifier.state_dict(), '/kaggle/working/weights/last.pt')\n",
    "\n",
    "    with open('/kaggle/working/history/train_logs.json', 'w') as f:\n",
    "        json.dump(history_train_logs, f, indent=4)\n",
    "        \n",
    "    with open('/kaggle/working/history/validation_logs.json', 'w') as f:\n",
    "        json.dump(history_val_logs, f, indent=4)"
   ]
  },
  {
   "cell_type": "code",
   "execution_count": 8,
   "id": "89874c16",
   "metadata": {
    "execution": {
     "iopub.execute_input": "2024-08-04T18:43:30.632343Z",
     "iopub.status.busy": "2024-08-04T18:43:30.632048Z",
     "iopub.status.idle": "2024-08-04T18:43:30.639455Z",
     "shell.execute_reply": "2024-08-04T18:43:30.638626Z"
    },
    "id": "sJEk15ExWBDc",
    "papermill": {
     "duration": 0.014687,
     "end_time": "2024-08-04T18:43:30.641319",
     "exception": false,
     "start_time": "2024-08-04T18:43:30.626632",
     "status": "completed"
    },
    "tags": []
   },
   "outputs": [],
   "source": [
    "def evaluate(test_loader, classifier, metrics, criterion, device):\n",
    "    classifier.eval()\n",
    "\n",
    "    with torch.no_grad():\n",
    "        total_loss = 0.0\n",
    "    \n",
    "        for metric in metrics.values():\n",
    "                metric.reset()\n",
    "\n",
    "        for images, labels in test_loader:\n",
    "            images = images.to(device)\n",
    "            labels = labels.to(device)\n",
    "\n",
    "            outputs = classifier(images)\n",
    "            loss = criterion(outputs, labels)\n",
    "\n",
    "            _, predicted = torch.max(outputs, 1)\n",
    "            total_loss += loss.item()\n",
    "            \n",
    "            for metric in metrics.values():\n",
    "                metric.update(predicted, labels)\n",
    "\n",
    "        average_loss = total_loss / len(test_loader)\n",
    "        \n",
    "        result = f\"Loss: {average_loss:.4f}\"\n",
    "        \n",
    "        for metric_name, metric in zip(metrics.keys(), metrics.values()):\n",
    "            result += f', {metric_name}: {metric.compute().item():.2f}'\n",
    "        print(result)"
   ]
  },
  {
   "cell_type": "code",
   "execution_count": 9,
   "id": "4f430b8b",
   "metadata": {
    "execution": {
     "iopub.execute_input": "2024-08-04T18:43:30.651437Z",
     "iopub.status.busy": "2024-08-04T18:43:30.651148Z",
     "iopub.status.idle": "2024-08-04T18:43:48.610654Z",
     "shell.execute_reply": "2024-08-04T18:43:48.609863Z"
    },
    "id": "cYub3sguQ3Fh",
    "papermill": {
     "duration": 17.967321,
     "end_time": "2024-08-04T18:43:48.613136",
     "exception": false,
     "start_time": "2024-08-04T18:43:30.645815",
     "status": "completed"
    },
    "tags": []
   },
   "outputs": [
    {
     "name": "stdout",
     "output_type": "stream",
     "text": [
      "Downloading https://www.cs.toronto.edu/~kriz/cifar-100-python.tar.gz to ./data/cifar-100-python.tar.gz\n"
     ]
    },
    {
     "name": "stderr",
     "output_type": "stream",
     "text": [
      "100%|██████████| 169001437/169001437 [00:10<00:00, 15993401.12it/s]\n"
     ]
    },
    {
     "name": "stdout",
     "output_type": "stream",
     "text": [
      "Extracting ./data/cifar-100-python.tar.gz to ./data\n",
      "Files already downloaded and verified\n"
     ]
    }
   ],
   "source": [
    "num_classes = 100\n",
    "num_epochs = 100\n",
    "batch_size = 64\n",
    "learning_rate = 0.001\n",
    "\n",
    "train_loader, valid_loader = data_loader(data_dir='./data',\n",
    "                                         batch_size=batch_size)\n",
    "\n",
    "test_loader = data_loader(data_dir='./data',\n",
    "                              batch_size=batch_size,\n",
    "                              test=True)\n",
    "\n",
    "accuracy = Accuracy(task='multiclass', num_classes=num_classes).to(device)\n",
    "precision = Precision(task='multiclass', num_classes=num_classes, average='macro').to(device)\n",
    "recall = Recall(task='multiclass', num_classes=num_classes, average='macro').to(device)\n",
    "\n",
    "metrics = {'Accuracy': accuracy, 'Precision': precision, 'Recall': recall}\n",
    "\n",
    "vgg16_config = [64, 64, 'M', 128, 128, 'M', 256, 256, 256, 'M', 512, 512, 512, 'M', 512, 512, 512, 'M']\n",
    "vgg16_classifier = VGG(make_layers(vgg16_config), num_classes).to(device)\n",
    "\n",
    "criterion = nn.CrossEntropyLoss()\n",
    "optimizer = torch.optim.SGD(vgg16_classifier.parameters(), lr=learning_rate)"
   ]
  },
  {
   "cell_type": "code",
   "execution_count": 10,
   "id": "85744d25",
   "metadata": {
    "execution": {
     "iopub.execute_input": "2024-08-04T18:43:48.635146Z",
     "iopub.status.busy": "2024-08-04T18:43:48.634013Z",
     "iopub.status.idle": "2024-08-05T05:29:35.347640Z",
     "shell.execute_reply": "2024-08-05T05:29:35.346860Z"
    },
    "id": "llcqZYn1Ym7O",
    "outputId": "54a830cc-386f-4666-d817-dc21f257db0b",
    "papermill": {
     "duration": 38746.726954,
     "end_time": "2024-08-05T05:29:35.350061",
     "exception": false,
     "start_time": "2024-08-04T18:43:48.623107",
     "status": "completed"
    },
    "tags": []
   },
   "outputs": [
    {
     "name": "stdout",
     "output_type": "stream",
     "text": [
      "Epoch [1/100], Train Loss: 4.6006, Accuracy: 0.02, Precision: 0.02, Recall: 0.02, Val Loss: 4.3486,  Val Accuracy: 0.06,  Val Precision: 0.05,  Val Recall: 0.05\n",
      "Epoch [2/100], Train Loss: 4.4037, Accuracy: 0.04, Precision: 0.03, Recall: 0.04, Val Loss: 4.2163,  Val Accuracy: 0.07,  Val Precision: 0.06,  Val Recall: 0.07\n",
      "Epoch [3/100], Train Loss: 4.2570, Accuracy: 0.06, Precision: 0.05, Recall: 0.06, Val Loss: 4.0563,  Val Accuracy: 0.09,  Val Precision: 0.08,  Val Recall: 0.09\n",
      "Epoch [4/100], Train Loss: 4.0783, Accuracy: 0.08, Precision: 0.07, Recall: 0.08, Val Loss: 3.8479,  Val Accuracy: 0.12,  Val Precision: 0.11,  Val Recall: 0.12\n",
      "Epoch [5/100], Train Loss: 3.9126, Accuracy: 0.10, Precision: 0.09, Recall: 0.10, Val Loss: 3.6932,  Val Accuracy: 0.14,  Val Precision: 0.13,  Val Recall: 0.13\n",
      "Epoch [6/100], Train Loss: 3.7777, Accuracy: 0.12, Precision: 0.10, Recall: 0.12, Val Loss: 3.5462,  Val Accuracy: 0.16,  Val Precision: 0.14,  Val Recall: 0.16\n",
      "Epoch [7/100], Train Loss: 3.6641, Accuracy: 0.14, Precision: 0.12, Recall: 0.14, Val Loss: 3.4396,  Val Accuracy: 0.17,  Val Precision: 0.16,  Val Recall: 0.17\n",
      "Epoch [8/100], Train Loss: 3.5665, Accuracy: 0.16, Precision: 0.14, Recall: 0.16, Val Loss: 3.3630,  Val Accuracy: 0.19,  Val Precision: 0.20,  Val Recall: 0.18\n",
      "Epoch [9/100], Train Loss: 3.4791, Accuracy: 0.17, Precision: 0.15, Recall: 0.17, Val Loss: 3.2993,  Val Accuracy: 0.20,  Val Precision: 0.21,  Val Recall: 0.20\n",
      "Epoch [10/100], Train Loss: 3.4028, Accuracy: 0.18, Precision: 0.17, Recall: 0.18, Val Loss: 3.2108,  Val Accuracy: 0.22,  Val Precision: 0.24,  Val Recall: 0.22\n",
      "Epoch [11/100], Train Loss: 3.3316, Accuracy: 0.20, Precision: 0.18, Recall: 0.20, Val Loss: 3.1523,  Val Accuracy: 0.22,  Val Precision: 0.25,  Val Recall: 0.22\n",
      "Epoch [12/100], Train Loss: 3.2637, Accuracy: 0.21, Precision: 0.20, Recall: 0.21, Val Loss: 3.1036,  Val Accuracy: 0.24,  Val Precision: 0.25,  Val Recall: 0.23\n",
      "Epoch [13/100], Train Loss: 3.2083, Accuracy: 0.22, Precision: 0.20, Recall: 0.22, Val Loss: 3.0556,  Val Accuracy: 0.25,  Val Precision: 0.27,  Val Recall: 0.24\n",
      "Epoch [14/100], Train Loss: 3.1519, Accuracy: 0.23, Precision: 0.21, Recall: 0.23, Val Loss: 3.0284,  Val Accuracy: 0.25,  Val Precision: 0.27,  Val Recall: 0.24\n",
      "Epoch [15/100], Train Loss: 3.0996, Accuracy: 0.24, Precision: 0.22, Recall: 0.24, Val Loss: 2.9969,  Val Accuracy: 0.26,  Val Precision: 0.28,  Val Recall: 0.26\n",
      "Epoch [16/100], Train Loss: 3.0595, Accuracy: 0.25, Precision: 0.23, Recall: 0.25, Val Loss: 2.9325,  Val Accuracy: 0.27,  Val Precision: 0.29,  Val Recall: 0.27\n",
      "Epoch [17/100], Train Loss: 3.0132, Accuracy: 0.25, Precision: 0.24, Recall: 0.25, Val Loss: 2.9257,  Val Accuracy: 0.27,  Val Precision: 0.29,  Val Recall: 0.27\n",
      "Epoch [18/100], Train Loss: 2.9620, Accuracy: 0.26, Precision: 0.25, Recall: 0.26, Val Loss: 2.8634,  Val Accuracy: 0.28,  Val Precision: 0.28,  Val Recall: 0.28\n",
      "Epoch [19/100], Train Loss: 2.9243, Accuracy: 0.27, Precision: 0.26, Recall: 0.27, Val Loss: 2.8424,  Val Accuracy: 0.29,  Val Precision: 0.30,  Val Recall: 0.29\n",
      "Epoch [20/100], Train Loss: 2.8820, Accuracy: 0.28, Precision: 0.27, Recall: 0.28, Val Loss: 2.8708,  Val Accuracy: 0.29,  Val Precision: 0.30,  Val Recall: 0.29\n",
      "Epoch [21/100], Train Loss: 2.8507, Accuracy: 0.28, Precision: 0.27, Recall: 0.28, Val Loss: 2.7826,  Val Accuracy: 0.30,  Val Precision: 0.31,  Val Recall: 0.30\n",
      "Epoch [22/100], Train Loss: 2.8054, Accuracy: 0.30, Precision: 0.28, Recall: 0.30, Val Loss: 2.7640,  Val Accuracy: 0.30,  Val Precision: 0.32,  Val Recall: 0.30\n",
      "Epoch [23/100], Train Loss: 2.7653, Accuracy: 0.30, Precision: 0.29, Recall: 0.30, Val Loss: 2.7311,  Val Accuracy: 0.31,  Val Precision: 0.32,  Val Recall: 0.31\n",
      "Epoch [24/100], Train Loss: 2.7294, Accuracy: 0.31, Precision: 0.30, Recall: 0.31, Val Loss: 2.6931,  Val Accuracy: 0.32,  Val Precision: 0.33,  Val Recall: 0.32\n",
      "Epoch [25/100], Train Loss: 2.6974, Accuracy: 0.32, Precision: 0.30, Recall: 0.32, Val Loss: 2.7254,  Val Accuracy: 0.32,  Val Precision: 0.34,  Val Recall: 0.32\n",
      "Epoch [26/100], Train Loss: 2.6565, Accuracy: 0.32, Precision: 0.31, Recall: 0.32, Val Loss: 2.7012,  Val Accuracy: 0.32,  Val Precision: 0.34,  Val Recall: 0.32\n",
      "Epoch [27/100], Train Loss: 2.6329, Accuracy: 0.33, Precision: 0.31, Recall: 0.33, Val Loss: 2.6474,  Val Accuracy: 0.33,  Val Precision: 0.33,  Val Recall: 0.33\n",
      "Epoch [28/100], Train Loss: 2.5913, Accuracy: 0.34, Precision: 0.33, Recall: 0.34, Val Loss: 2.6659,  Val Accuracy: 0.33,  Val Precision: 0.36,  Val Recall: 0.33\n",
      "Epoch [29/100], Train Loss: 2.5664, Accuracy: 0.34, Precision: 0.33, Recall: 0.34, Val Loss: 2.6414,  Val Accuracy: 0.33,  Val Precision: 0.36,  Val Recall: 0.33\n",
      "Epoch [30/100], Train Loss: 2.5356, Accuracy: 0.35, Precision: 0.33, Recall: 0.35, Val Loss: 2.5440,  Val Accuracy: 0.35,  Val Precision: 0.35,  Val Recall: 0.35\n",
      "Epoch [31/100], Train Loss: 2.5038, Accuracy: 0.36, Precision: 0.34, Recall: 0.36, Val Loss: 2.5427,  Val Accuracy: 0.35,  Val Precision: 0.35,  Val Recall: 0.35\n",
      "Epoch [32/100], Train Loss: 2.4673, Accuracy: 0.36, Precision: 0.35, Recall: 0.36, Val Loss: 2.4987,  Val Accuracy: 0.36,  Val Precision: 0.37,  Val Recall: 0.35\n",
      "Epoch [33/100], Train Loss: 2.4355, Accuracy: 0.37, Precision: 0.36, Recall: 0.37, Val Loss: 2.5391,  Val Accuracy: 0.35,  Val Precision: 0.37,  Val Recall: 0.35\n",
      "Epoch [34/100], Train Loss: 2.4074, Accuracy: 0.37, Precision: 0.36, Recall: 0.37, Val Loss: 2.5003,  Val Accuracy: 0.36,  Val Precision: 0.38,  Val Recall: 0.36\n",
      "Epoch [35/100], Train Loss: 2.3766, Accuracy: 0.38, Precision: 0.37, Recall: 0.38, Val Loss: 2.5515,  Val Accuracy: 0.35,  Val Precision: 0.38,  Val Recall: 0.35\n",
      "Epoch [36/100], Train Loss: 2.3499, Accuracy: 0.39, Precision: 0.37, Recall: 0.39, Val Loss: 2.4835,  Val Accuracy: 0.37,  Val Precision: 0.39,  Val Recall: 0.36\n",
      "Epoch [37/100], Train Loss: 2.3241, Accuracy: 0.40, Precision: 0.38, Recall: 0.40, Val Loss: 2.4816,  Val Accuracy: 0.37,  Val Precision: 0.39,  Val Recall: 0.37\n",
      "Epoch [38/100], Train Loss: 2.2954, Accuracy: 0.40, Precision: 0.39, Recall: 0.40, Val Loss: 2.4067,  Val Accuracy: 0.38,  Val Precision: 0.39,  Val Recall: 0.38\n",
      "Epoch [39/100], Train Loss: 2.2651, Accuracy: 0.40, Precision: 0.39, Recall: 0.41, Val Loss: 2.4356,  Val Accuracy: 0.38,  Val Precision: 0.39,  Val Recall: 0.38\n",
      "Epoch [40/100], Train Loss: 2.2337, Accuracy: 0.41, Precision: 0.40, Recall: 0.41, Val Loss: 2.4959,  Val Accuracy: 0.38,  Val Precision: 0.38,  Val Recall: 0.37\n",
      "Epoch [41/100], Train Loss: 2.2069, Accuracy: 0.42, Precision: 0.41, Recall: 0.42, Val Loss: 2.4647,  Val Accuracy: 0.37,  Val Precision: 0.40,  Val Recall: 0.37\n",
      "Epoch [42/100], Train Loss: 2.1785, Accuracy: 0.42, Precision: 0.41, Recall: 0.42, Val Loss: 2.4500,  Val Accuracy: 0.38,  Val Precision: 0.41,  Val Recall: 0.38\n",
      "Epoch [43/100], Train Loss: 2.1486, Accuracy: 0.43, Precision: 0.42, Recall: 0.43, Val Loss: 2.4581,  Val Accuracy: 0.37,  Val Precision: 0.38,  Val Recall: 0.37\n",
      "Epoch [44/100], Train Loss: 2.1181, Accuracy: 0.44, Precision: 0.43, Recall: 0.44, Val Loss: 2.4708,  Val Accuracy: 0.39,  Val Precision: 0.41,  Val Recall: 0.39\n",
      "Epoch [45/100], Train Loss: 2.0983, Accuracy: 0.44, Precision: 0.43, Recall: 0.44, Val Loss: 2.3997,  Val Accuracy: 0.39,  Val Precision: 0.41,  Val Recall: 0.39\n",
      "Epoch [46/100], Train Loss: 2.0724, Accuracy: 0.45, Precision: 0.44, Recall: 0.45, Val Loss: 2.4223,  Val Accuracy: 0.39,  Val Precision: 0.40,  Val Recall: 0.38\n",
      "Epoch [47/100], Train Loss: 2.0433, Accuracy: 0.45, Precision: 0.44, Recall: 0.45, Val Loss: 2.4219,  Val Accuracy: 0.40,  Val Precision: 0.42,  Val Recall: 0.40\n",
      "Epoch [48/100], Train Loss: 2.0146, Accuracy: 0.46, Precision: 0.45, Recall: 0.46, Val Loss: 2.2449,  Val Accuracy: 0.42,  Val Precision: 0.44,  Val Recall: 0.42\n",
      "Epoch [49/100], Train Loss: 1.9931, Accuracy: 0.46, Precision: 0.46, Recall: 0.46, Val Loss: 2.3423,  Val Accuracy: 0.40,  Val Precision: 0.42,  Val Recall: 0.40\n",
      "Epoch [50/100], Train Loss: 1.9575, Accuracy: 0.48, Precision: 0.47, Recall: 0.48, Val Loss: 2.6230,  Val Accuracy: 0.38,  Val Precision: 0.42,  Val Recall: 0.38\n",
      "Epoch [51/100], Train Loss: 1.9422, Accuracy: 0.47, Precision: 0.47, Recall: 0.48, Val Loss: 2.3158,  Val Accuracy: 0.41,  Val Precision: 0.42,  Val Recall: 0.41\n",
      "Epoch [52/100], Train Loss: 1.9203, Accuracy: 0.48, Precision: 0.47, Recall: 0.48, Val Loss: 2.2497,  Val Accuracy: 0.42,  Val Precision: 0.43,  Val Recall: 0.42\n",
      "Epoch [53/100], Train Loss: 1.8876, Accuracy: 0.49, Precision: 0.48, Recall: 0.49, Val Loss: 2.2222,  Val Accuracy: 0.43,  Val Precision: 0.46,  Val Recall: 0.43\n",
      "Epoch [54/100], Train Loss: 1.8626, Accuracy: 0.49, Precision: 0.49, Recall: 0.49, Val Loss: 2.2605,  Val Accuracy: 0.42,  Val Precision: 0.45,  Val Recall: 0.42\n",
      "Epoch [55/100], Train Loss: 1.8365, Accuracy: 0.50, Precision: 0.49, Recall: 0.50, Val Loss: 2.2889,  Val Accuracy: 0.42,  Val Precision: 0.45,  Val Recall: 0.42\n",
      "Epoch [56/100], Train Loss: 1.8176, Accuracy: 0.50, Precision: 0.49, Recall: 0.50, Val Loss: 2.2275,  Val Accuracy: 0.44,  Val Precision: 0.45,  Val Recall: 0.43\n",
      "Epoch [57/100], Train Loss: 1.7889, Accuracy: 0.51, Precision: 0.50, Recall: 0.51, Val Loss: 2.3099,  Val Accuracy: 0.43,  Val Precision: 0.44,  Val Recall: 0.43\n",
      "Epoch [58/100], Train Loss: 1.7707, Accuracy: 0.52, Precision: 0.51, Recall: 0.52, Val Loss: 2.3280,  Val Accuracy: 0.42,  Val Precision: 0.45,  Val Recall: 0.42\n",
      "Epoch [59/100], Train Loss: 1.7428, Accuracy: 0.52, Precision: 0.51, Recall: 0.52, Val Loss: 2.2764,  Val Accuracy: 0.42,  Val Precision: 0.45,  Val Recall: 0.42\n",
      "Epoch [60/100], Train Loss: 1.7175, Accuracy: 0.53, Precision: 0.52, Recall: 0.53, Val Loss: 2.2505,  Val Accuracy: 0.43,  Val Precision: 0.44,  Val Recall: 0.43\n",
      "Epoch [61/100], Train Loss: 1.6973, Accuracy: 0.53, Precision: 0.52, Recall: 0.53, Val Loss: 2.3110,  Val Accuracy: 0.43,  Val Precision: 0.46,  Val Recall: 0.43\n",
      "Epoch [62/100], Train Loss: 1.6751, Accuracy: 0.54, Precision: 0.53, Recall: 0.54, Val Loss: 2.3090,  Val Accuracy: 0.43,  Val Precision: 0.45,  Val Recall: 0.43\n",
      "Epoch [63/100], Train Loss: 1.6524, Accuracy: 0.54, Precision: 0.54, Recall: 0.54, Val Loss: 2.4596,  Val Accuracy: 0.41,  Val Precision: 0.45,  Val Recall: 0.41\n",
      "Epoch [64/100], Train Loss: 1.6243, Accuracy: 0.55, Precision: 0.54, Recall: 0.55, Val Loss: 2.2497,  Val Accuracy: 0.44,  Val Precision: 0.46,  Val Recall: 0.44\n",
      "Epoch [65/100], Train Loss: 1.5985, Accuracy: 0.55, Precision: 0.55, Recall: 0.55, Val Loss: 2.6589,  Val Accuracy: 0.40,  Val Precision: 0.44,  Val Recall: 0.40\n",
      "Epoch [66/100], Train Loss: 1.5877, Accuracy: 0.55, Precision: 0.55, Recall: 0.55, Val Loss: 2.3027,  Val Accuracy: 0.43,  Val Precision: 0.46,  Val Recall: 0.43\n",
      "Epoch [67/100], Train Loss: 1.5564, Accuracy: 0.56, Precision: 0.56, Recall: 0.56, Val Loss: 2.2031,  Val Accuracy: 0.45,  Val Precision: 0.46,  Val Recall: 0.45\n",
      "Epoch [68/100], Train Loss: 1.5405, Accuracy: 0.57, Precision: 0.56, Recall: 0.57, Val Loss: 2.8559,  Val Accuracy: 0.39,  Val Precision: 0.44,  Val Recall: 0.39\n",
      "Epoch [69/100], Train Loss: 1.5250, Accuracy: 0.57, Precision: 0.57, Recall: 0.57, Val Loss: 2.2998,  Val Accuracy: 0.44,  Val Precision: 0.46,  Val Recall: 0.44\n",
      "Epoch [70/100], Train Loss: 1.4915, Accuracy: 0.58, Precision: 0.57, Recall: 0.58, Val Loss: 2.3993,  Val Accuracy: 0.42,  Val Precision: 0.45,  Val Recall: 0.42\n",
      "Epoch [71/100], Train Loss: 1.4721, Accuracy: 0.58, Precision: 0.58, Recall: 0.58, Val Loss: 2.4078,  Val Accuracy: 0.41,  Val Precision: 0.44,  Val Recall: 0.41\n",
      "Epoch [72/100], Train Loss: 1.4517, Accuracy: 0.59, Precision: 0.58, Recall: 0.59, Val Loss: 2.4439,  Val Accuracy: 0.43,  Val Precision: 0.48,  Val Recall: 0.42\n",
      "Epoch [73/100], Train Loss: 1.4276, Accuracy: 0.59, Precision: 0.59, Recall: 0.59, Val Loss: 2.3660,  Val Accuracy: 0.43,  Val Precision: 0.49,  Val Recall: 0.43\n",
      "Epoch [74/100], Train Loss: 1.4095, Accuracy: 0.60, Precision: 0.59, Recall: 0.60, Val Loss: 2.4215,  Val Accuracy: 0.43,  Val Precision: 0.47,  Val Recall: 0.43\n",
      "Epoch [75/100], Train Loss: 1.3843, Accuracy: 0.60, Precision: 0.60, Recall: 0.60, Val Loss: 2.6586,  Val Accuracy: 0.40,  Val Precision: 0.45,  Val Recall: 0.40\n",
      "Epoch [76/100], Train Loss: 1.3620, Accuracy: 0.61, Precision: 0.61, Recall: 0.61, Val Loss: 2.6852,  Val Accuracy: 0.41,  Val Precision: 0.47,  Val Recall: 0.41\n",
      "Epoch [77/100], Train Loss: 1.3377, Accuracy: 0.61, Precision: 0.61, Recall: 0.61, Val Loss: 2.1862,  Val Accuracy: 0.47,  Val Precision: 0.49,  Val Recall: 0.47\n",
      "Epoch [78/100], Train Loss: 1.3220, Accuracy: 0.62, Precision: 0.61, Recall: 0.62, Val Loss: 2.2996,  Val Accuracy: 0.45,  Val Precision: 0.48,  Val Recall: 0.45\n",
      "Epoch [79/100], Train Loss: 1.3038, Accuracy: 0.62, Precision: 0.62, Recall: 0.62, Val Loss: 2.8155,  Val Accuracy: 0.40,  Val Precision: 0.45,  Val Recall: 0.40\n",
      "Epoch [80/100], Train Loss: 1.2717, Accuracy: 0.63, Precision: 0.63, Recall: 0.63, Val Loss: 2.1465,  Val Accuracy: 0.47,  Val Precision: 0.48,  Val Recall: 0.47\n",
      "Epoch [81/100], Train Loss: 1.2530, Accuracy: 0.64, Precision: 0.63, Recall: 0.64, Val Loss: 3.0448,  Val Accuracy: 0.38,  Val Precision: 0.44,  Val Recall: 0.38\n",
      "Epoch [82/100], Train Loss: 1.2372, Accuracy: 0.64, Precision: 0.64, Recall: 0.64, Val Loss: 3.1633,  Val Accuracy: 0.38,  Val Precision: 0.46,  Val Recall: 0.38\n",
      "Epoch [83/100], Train Loss: 1.2157, Accuracy: 0.64, Precision: 0.64, Recall: 0.64, Val Loss: 2.9012,  Val Accuracy: 0.38,  Val Precision: 0.45,  Val Recall: 0.38\n",
      "Epoch [84/100], Train Loss: 1.1912, Accuracy: 0.65, Precision: 0.65, Recall: 0.65, Val Loss: 2.2824,  Val Accuracy: 0.46,  Val Precision: 0.47,  Val Recall: 0.46\n",
      "Epoch [85/100], Train Loss: 1.1610, Accuracy: 0.66, Precision: 0.65, Recall: 0.66, Val Loss: 2.2237,  Val Accuracy: 0.47,  Val Precision: 0.49,  Val Recall: 0.47\n",
      "Epoch [86/100], Train Loss: 1.1480, Accuracy: 0.66, Precision: 0.66, Recall: 0.66, Val Loss: 3.0271,  Val Accuracy: 0.39,  Val Precision: 0.48,  Val Recall: 0.39\n",
      "Epoch [87/100], Train Loss: 1.1225, Accuracy: 0.67, Precision: 0.66, Recall: 0.67, Val Loss: 2.2456,  Val Accuracy: 0.48,  Val Precision: 0.50,  Val Recall: 0.48\n",
      "Epoch [88/100], Train Loss: 1.1134, Accuracy: 0.67, Precision: 0.67, Recall: 0.67, Val Loss: 3.1282,  Val Accuracy: 0.39,  Val Precision: 0.48,  Val Recall: 0.39\n",
      "Epoch [89/100], Train Loss: 1.0866, Accuracy: 0.68, Precision: 0.68, Recall: 0.68, Val Loss: 2.3368,  Val Accuracy: 0.46,  Val Precision: 0.48,  Val Recall: 0.46\n",
      "Epoch [90/100], Train Loss: 1.0651, Accuracy: 0.68, Precision: 0.68, Recall: 0.68, Val Loss: 2.3163,  Val Accuracy: 0.46,  Val Precision: 0.49,  Val Recall: 0.46\n",
      "Epoch [91/100], Train Loss: 1.0449, Accuracy: 0.69, Precision: 0.69, Recall: 0.69, Val Loss: 2.5254,  Val Accuracy: 0.45,  Val Precision: 0.49,  Val Recall: 0.45\n",
      "Epoch [92/100], Train Loss: 1.0198, Accuracy: 0.69, Precision: 0.69, Recall: 0.69, Val Loss: 3.4060,  Val Accuracy: 0.38,  Val Precision: 0.46,  Val Recall: 0.38\n",
      "Epoch [93/100], Train Loss: 1.0035, Accuracy: 0.70, Precision: 0.70, Recall: 0.70, Val Loss: 3.2876,  Val Accuracy: 0.38,  Val Precision: 0.48,  Val Recall: 0.38\n",
      "Epoch [94/100], Train Loss: 0.9842, Accuracy: 0.70, Precision: 0.70, Recall: 0.70, Val Loss: 4.2492,  Val Accuracy: 0.34,  Val Precision: 0.44,  Val Recall: 0.33\n",
      "Epoch [95/100], Train Loss: 0.9571, Accuracy: 0.71, Precision: 0.71, Recall: 0.71, Val Loss: 2.3282,  Val Accuracy: 0.48,  Val Precision: 0.49,  Val Recall: 0.47\n",
      "Epoch [96/100], Train Loss: 0.9458, Accuracy: 0.71, Precision: 0.71, Recall: 0.71, Val Loss: 3.9573,  Val Accuracy: 0.36,  Val Precision: 0.46,  Val Recall: 0.37\n",
      "Epoch [97/100], Train Loss: 0.9266, Accuracy: 0.72, Precision: 0.72, Recall: 0.72, Val Loss: 2.5497,  Val Accuracy: 0.45,  Val Precision: 0.48,  Val Recall: 0.45\n",
      "Epoch [98/100], Train Loss: 0.9015, Accuracy: 0.72, Precision: 0.72, Recall: 0.72, Val Loss: 2.6776,  Val Accuracy: 0.44,  Val Precision: 0.48,  Val Recall: 0.44\n",
      "Epoch [99/100], Train Loss: 0.8784, Accuracy: 0.73, Precision: 0.73, Recall: 0.73, Val Loss: 2.4489,  Val Accuracy: 0.46,  Val Precision: 0.49,  Val Recall: 0.46\n",
      "Epoch [100/100], Train Loss: 0.8566, Accuracy: 0.74, Precision: 0.74, Recall: 0.74, Val Loss: 3.2182,  Val Accuracy: 0.38,  Val Precision: 0.46,  Val Recall: 0.38\n"
     ]
    }
   ],
   "source": [
    "train(num_epochs, train_loader, valid_loader, vgg16_classifier, metrics, criterion, optimizer, device)"
   ]
  },
  {
   "cell_type": "code",
   "execution_count": 11,
   "id": "57e81b48",
   "metadata": {
    "execution": {
     "iopub.execute_input": "2024-08-05T05:29:35.386848Z",
     "iopub.status.busy": "2024-08-05T05:29:35.386523Z",
     "iopub.status.idle": "2024-08-05T05:30:13.745267Z",
     "shell.execute_reply": "2024-08-05T05:30:13.744345Z"
    },
    "id": "EIgSCQjIYoGM",
    "papermill": {
     "duration": 38.395702,
     "end_time": "2024-08-05T05:30:13.764088",
     "exception": false,
     "start_time": "2024-08-05T05:29:35.368386",
     "status": "completed"
    },
    "tags": []
   },
   "outputs": [
    {
     "name": "stdout",
     "output_type": "stream",
     "text": [
      "Loss: 3.2436, Accuracy: 0.38, Precision: 0.44, Recall: 0.38\n"
     ]
    }
   ],
   "source": [
    "evaluate(test_loader, vgg16_classifier, metrics, criterion, device)"
   ]
  },
  {
   "cell_type": "code",
   "execution_count": 12,
   "id": "88722c05",
   "metadata": {
    "execution": {
     "iopub.execute_input": "2024-08-05T05:30:13.799506Z",
     "iopub.status.busy": "2024-08-05T05:30:13.799197Z",
     "iopub.status.idle": "2024-08-05T05:30:14.442808Z",
     "shell.execute_reply": "2024-08-05T05:30:14.441888Z"
    },
    "papermill": {
     "duration": 0.663786,
     "end_time": "2024-08-05T05:30:14.444925",
     "exception": false,
     "start_time": "2024-08-05T05:30:13.781139",
     "status": "completed"
    },
    "tags": []
   },
   "outputs": [
    {
     "data": {
      "image/png": "[encoded data removed]",
      "text/plain": [
       "<Figure size 1000x500 with 1 Axes>"
      ]
     },
     "metadata": {},
     "output_type": "display_data"
    },
    {
     "data": {
      "image/png": "[encoded data removed]",
      "text/plain": [
       "<Figure size 1000x500 with 1 Axes>"
      ]
     },
     "metadata": {},
     "output_type": "display_data"
    }
   ],
   "source": [
    "with open('/kaggle/working/history/train_logs.json', 'r') as f:\n",
    "    train_logs = json.load(f)\n",
    "    \n",
    "with open('/kaggle/working/history/validation_logs.json', 'r') as f:\n",
    "    validate_logs = json.load(f)\n",
    "\n",
    "plt.figure(figsize=(10, 5))\n",
    "plt.plot(train_logs['Loss'], label='Train Loss')\n",
    "plt.plot(validate_logs['Loss'], label='Validation Loss')\n",
    "plt.xlabel('Epoch')\n",
    "plt.ylabel('Loss')\n",
    "plt.title('Train and Validation Loss')\n",
    "plt.legend()\n",
    "plt.show()\n",
    "\n",
    "plt.figure(figsize=(10, 5))\n",
    "plt.plot(train_logs['Accuracy'], label='Train Accuracy')\n",
    "plt.plot(validate_logs['Accuracy'], label='Validation Accuracy')\n",
    "plt.xlabel('Epoch')\n",
    "plt.ylabel('Accuracy')\n",
    "plt.title('Train and Validation Accuracy')\n",
    "plt.legend()\n",
    "plt.show()"
   ]
  },
  {
   "cell_type": "code",
   "execution_count": null,
   "id": "b15dfedc",
   "metadata": {
    "papermill": {
     "duration": 0.019088,
     "end_time": "2024-08-05T05:30:14.483201",
     "exception": false,
     "start_time": "2024-08-05T05:30:14.464113",
     "status": "completed"
    },
    "tags": []
   },
   "outputs": [],
   "source": []
  }
 ],
 "metadata": {
  "accelerator": "GPU",
  "colab": {
   "gpuType": "T4",
   "provenance": []
  },
  "kaggle": {
   "accelerator": "none",
   "dataSources": [],
   "isGpuEnabled": false,
   "isInternetEnabled": true,
   "language": "python",
   "sourceType": "notebook"
  },
  "kernelspec": {
   "display_name": "Python 3",
   "language": "python",
   "name": "python3"
  },
  "language_info": {
   "codemirror_mode": {
    "name": "ipython",
    "version": 3
   },
   "file_extension": ".py",
   "mimetype": "text/x-python",
   "name": "python",
   "nbconvert_exporter": "python",
   "pygments_lexer": "ipython3",
   "version": "3.10.13"
  },
  "papermill": {
   "default_parameters": {},
   "duration": 38818.101271,
   "end_time": "2024-08-05T05:30:16.112691",
   "environment_variables": {},
   "exception": null,
   "input_path": "__notebook__.ipynb",
   "output_path": "__notebook__.ipynb",
   "parameters": {},
   "start_time": "2024-08-04T18:43:18.011420",
   "version": "2.5.0"
  }
 },
 "nbformat": 4,
 "nbformat_minor": 5
}
