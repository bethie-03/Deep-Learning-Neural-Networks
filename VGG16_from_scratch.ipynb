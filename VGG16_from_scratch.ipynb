{
 "cells": [
  {
   "cell_type": "code",
   "execution_count": 1,
   "id": "54f178ef",
   "metadata": {
    "execution": {
     "iopub.execute_input": "2024-08-03T09:23:33.864801Z",
     "iopub.status.busy": "2024-08-03T09:23:33.863936Z",
     "iopub.status.idle": "2024-08-03T09:23:39.718914Z",
     "shell.execute_reply": "2024-08-03T09:23:39.717974Z"
    },
    "id": "Wr0TwmNN1dnD",
    "papermill": {
     "duration": 5.864109,
     "end_time": "2024-08-03T09:23:39.721481",
     "exception": false,
     "start_time": "2024-08-03T09:23:33.857372",
     "status": "completed"
    },
    "tags": []
   },
   "outputs": [],
   "source": [
    "import numpy as np\n",
    "import torch\n",
    "import torch.nn as nn\n",
    "import torchvision\n",
    "from torchvision import datasets #CIFAR10, CIFAR100\n",
    "from torchvision import transforms\n",
    "from torch.utils.data import DataLoader\n",
    "from torch.utils.data.sampler import SubsetRandomSampler"
   ]
  },
  {
   "cell_type": "code",
   "execution_count": 2,
   "id": "7fb34c6e",
   "metadata": {
    "execution": {
     "iopub.execute_input": "2024-08-03T09:23:39.731962Z",
     "iopub.status.busy": "2024-08-03T09:23:39.731328Z",
     "iopub.status.idle": "2024-08-03T09:23:39.794422Z",
     "shell.execute_reply": "2024-08-03T09:23:39.793426Z"
    },
    "id": "T_wrWm8C_Xsy",
    "outputId": "9c19d7e3-7f2c-4952-b77e-33b939d16684",
    "papermill": {
     "duration": 0.070708,
     "end_time": "2024-08-03T09:23:39.796606",
     "exception": false,
     "start_time": "2024-08-03T09:23:39.725898",
     "status": "completed"
    },
    "tags": []
   },
   "outputs": [
    {
     "data": {
      "text/plain": [
       "device(type='cuda')"
      ]
     },
     "execution_count": 2,
     "metadata": {},
     "output_type": "execute_result"
    }
   ],
   "source": [
    "device = torch.device(\"cuda\" if torch.cuda.is_available() else \"cpu\")\n",
    "device"
   ]
  },
  {
   "cell_type": "code",
   "execution_count": 3,
   "id": "2b7f8203",
   "metadata": {
    "execution": {
     "iopub.execute_input": "2024-08-03T09:23:39.806987Z",
     "iopub.status.busy": "2024-08-03T09:23:39.806294Z",
     "iopub.status.idle": "2024-08-03T09:23:40.942721Z",
     "shell.execute_reply": "2024-08-03T09:23:40.941570Z"
    },
    "id": "UemiM3BMe2YU",
    "papermill": {
     "duration": 1.144327,
     "end_time": "2024-08-03T09:23:40.945329",
     "exception": false,
     "start_time": "2024-08-03T09:23:39.801002",
     "status": "completed"
    },
    "tags": []
   },
   "outputs": [],
   "source": [
    "!mkdir '/data'"
   ]
  },
  {
   "cell_type": "code",
   "execution_count": 4,
   "id": "fece7bd0",
   "metadata": {
    "execution": {
     "iopub.execute_input": "2024-08-03T09:23:40.956183Z",
     "iopub.status.busy": "2024-08-03T09:23:40.955784Z",
     "iopub.status.idle": "2024-08-03T09:23:53.095981Z",
     "shell.execute_reply": "2024-08-03T09:23:53.094887Z"
    },
    "id": "1eKKEINX_0KT",
    "outputId": "87ccb37e-809d-4482-8229-7322fb9e27b2",
    "papermill": {
     "duration": 12.148751,
     "end_time": "2024-08-03T09:23:53.098724",
     "exception": false,
     "start_time": "2024-08-03T09:23:40.949973",
     "status": "completed"
    },
    "tags": []
   },
   "outputs": [
    {
     "name": "stdout",
     "output_type": "stream",
     "text": [
      "Downloading https://www.cs.toronto.edu/~kriz/cifar-100-python.tar.gz to ./data/cifar-100-python.tar.gz\n"
     ]
    },
    {
     "name": "stderr",
     "output_type": "stream",
     "text": [
      "100%|██████████| 169001437/169001437 [00:02<00:00, 62189583.55it/s]\n"
     ]
    },
    {
     "name": "stdout",
     "output_type": "stream",
     "text": [
      "Extracting ./data/cifar-100-python.tar.gz to ./data\n",
      "Downloading https://www.cs.toronto.edu/~kriz/cifar-10-python.tar.gz to ./data/cifar-10-python.tar.gz\n"
     ]
    },
    {
     "name": "stderr",
     "output_type": "stream",
     "text": [
      "100%|██████████| 170498071/170498071 [00:02<00:00, 73887238.51it/s]\n"
     ]
    },
    {
     "name": "stdout",
     "output_type": "stream",
     "text": [
      "Extracting ./data/cifar-10-python.tar.gz to ./data\n",
      "Files already downloaded and verified\n"
     ]
    }
   ],
   "source": [
    "def data_loader(data_dir, batch_size, random_seed = 42, shuffle = True, valid_size=0.1, test = False):\n",
    "    transform = transforms.Compose([\n",
    "        transforms.Resize((224, 224)),\n",
    "        transforms.ToTensor(),\n",
    "        transforms.Normalize(\n",
    "            mean = (0.4914, 0.4822, 0.4465),\n",
    "            std = (0.2023, 0.1994, 0.2010)\n",
    "        )\n",
    "    ])\n",
    "\n",
    "    if test:\n",
    "        dataset = datasets.CIFAR100(\n",
    "            root = data_dir,\n",
    "            train = False,\n",
    "            download = True,\n",
    "            transform = transform\n",
    "        )\n",
    "\n",
    "        data_loader = DataLoader(\n",
    "            dataset, batch_size = batch_size, shuffle = shuffle\n",
    "        )\n",
    "\n",
    "        return data_loader\n",
    "\n",
    "    train_dataset = datasets.CIFAR100(\n",
    "        root = data_dir,\n",
    "        train = True,\n",
    "        download = True,\n",
    "        transform = transform\n",
    "    )\n",
    "\n",
    "    valid_dataset = datasets.CIFAR10(\n",
    "        root = data_dir,\n",
    "        train = True,\n",
    "        download = True,\n",
    "        transform = transform\n",
    "    )\n",
    "\n",
    "    num_train = len(train_dataset)\n",
    "    indices = list(range(num_train))\n",
    "    split = int(np.floor(valid_size*num_train))\n",
    "\n",
    "    if shuffle:\n",
    "      np.random.seed(random_seed)\n",
    "      np.random.shuffle(indices)\n",
    "\n",
    "    train_idx, valid_idx = indices[split:], indices[:split]\n",
    "\n",
    "    train_sampler = SubsetRandomSampler(train_idx)\n",
    "    valid_sampler = SubsetRandomSampler(valid_idx)\n",
    "\n",
    "    train_loader = DataLoader(\n",
    "       train_dataset, batch_size=batch_size, sampler=train_sampler\n",
    "    )\n",
    "\n",
    "    valid_loader = DataLoader(\n",
    "       valid_dataset, batch_size=batch_size, sampler=valid_sampler\n",
    "    )\n",
    "\n",
    "    return (train_loader, valid_loader)\n",
    "\n",
    "\n",
    "train_loader, valid_loader = data_loader(data_dir='./data',\n",
    "                                         batch_size=64)\n",
    "\n",
    "test_loader = data_loader(data_dir='./data',\n",
    "                              batch_size=64,\n",
    "                              test=True)"
   ]
  },
  {
   "cell_type": "code",
   "execution_count": 5,
   "id": "3a1a90d4",
   "metadata": {
    "execution": {
     "iopub.execute_input": "2024-08-03T09:23:53.120694Z",
     "iopub.status.busy": "2024-08-03T09:23:53.120342Z",
     "iopub.status.idle": "2024-08-03T09:23:53.146136Z",
     "shell.execute_reply": "2024-08-03T09:23:53.145100Z"
    },
    "id": "P8BjUKDRfdkK",
    "papermill": {
     "duration": 0.039685,
     "end_time": "2024-08-03T09:23:53.148456",
     "exception": false,
     "start_time": "2024-08-03T09:23:53.108771",
     "status": "completed"
    },
    "tags": []
   },
   "outputs": [],
   "source": [
    "class VGG16(nn.Module):\n",
    "    def __init__ (self, num_classes = 10):\n",
    "        super(VGG16, self).__init__()\n",
    "\n",
    "        self.layer1 = nn.Sequential(\n",
    "            nn.Conv2d(3, 64, kernel_size=3, stride=1, padding=1),\n",
    "            nn.BatchNorm2d(64),\n",
    "            nn.ReLU()\n",
    "        )\n",
    "\n",
    "        self.layer2 = nn.Sequential(\n",
    "            nn.Conv2d(64, 64, kernel_size=3, stride=1, padding=1),\n",
    "            nn.BatchNorm2d(64),\n",
    "            nn.ReLU(),\n",
    "            nn.MaxPool2d(kernel_size=2, stride=2)\n",
    "        )\n",
    "\n",
    "        self.layer3 = nn.Sequential(\n",
    "            nn.Conv2d(64, 128, kernel_size=3, stride=1, padding=1),\n",
    "            nn.BatchNorm2d(128),\n",
    "            nn.ReLU()\n",
    "        )\n",
    "\n",
    "        self.layer4 = nn.Sequential(\n",
    "            nn.Conv2d(128, 128, kernel_size=3, stride=1, padding=1),\n",
    "            nn.BatchNorm2d(128),\n",
    "            nn.ReLU(),\n",
    "            nn.MaxPool2d(kernel_size=2, stride=2)\n",
    "        )\n",
    "\n",
    "        self.layer5 = nn.Sequential(\n",
    "            nn.Conv2d(128, 256, kernel_size=3, stride=1, padding=1),\n",
    "            nn.BatchNorm2d(256),\n",
    "            nn.ReLU()\n",
    "        )\n",
    "\n",
    "        self.layer6 = nn.Sequential(\n",
    "            nn.Conv2d(256, 256, kernel_size=3, stride=1, padding=1),\n",
    "            nn.BatchNorm2d(256),\n",
    "            nn.ReLU()\n",
    "        )\n",
    "\n",
    "        self.layer7 = nn.Sequential(\n",
    "            nn.Conv2d(256, 256, kernel_size=3, stride=1, padding=1),\n",
    "            nn.BatchNorm2d(256),\n",
    "            nn.ReLU(),\n",
    "            nn.MaxPool2d(kernel_size=2, stride=2)\n",
    "        )\n",
    "\n",
    "        self.layer8 = nn.Sequential(\n",
    "            nn.Conv2d(256, 512, kernel_size=3, stride=1, padding=1),\n",
    "            nn.BatchNorm2d(512),\n",
    "            nn.ReLU()\n",
    "        )\n",
    "\n",
    "        self.layer9 = nn.Sequential(\n",
    "            nn.Conv2d(512, 512, kernel_size=3, stride=1, padding=1),\n",
    "            nn.BatchNorm2d(512),\n",
    "            nn.ReLU()\n",
    "        )\n",
    "\n",
    "        self.layer10 = nn.Sequential(\n",
    "            nn.Conv2d(512, 512, kernel_size=3, stride=1, padding=1),\n",
    "            nn.BatchNorm2d(512),\n",
    "            nn.ReLU(),\n",
    "            nn.MaxPool2d(kernel_size=2, stride=2)\n",
    "        )\n",
    "\n",
    "        self.layer11 = nn.Sequential(\n",
    "            nn.Conv2d(512, 512, kernel_size=3, stride=1, padding=1),\n",
    "            nn.BatchNorm2d(512),\n",
    "            nn.ReLU()\n",
    "        )\n",
    "\n",
    "        self.layer12 = nn.Sequential(\n",
    "            nn.Conv2d(512, 512, kernel_size=3, stride=1, padding=1),\n",
    "            nn.BatchNorm2d(512),\n",
    "            nn.ReLU()\n",
    "        )\n",
    "\n",
    "        self.layer13 = nn.Sequential(\n",
    "            nn.Conv2d(512, 512, kernel_size=3, stride=1, padding=1),\n",
    "            nn.BatchNorm2d(512),\n",
    "            nn.ReLU(),\n",
    "            nn.MaxPool2d(kernel_size=2, stride=2)\n",
    "        )\n",
    "\n",
    "        self.fc = nn.Sequential(\n",
    "            nn.Dropout(0.5),\n",
    "            nn.Linear(7*7*512, 4096),\n",
    "            nn.ReLU()\n",
    "        )\n",
    "\n",
    "        self.fc1 = nn.Sequential(\n",
    "            nn.Dropout(0.5),\n",
    "            nn.Linear(4096, 4096),\n",
    "            nn.ReLU()\n",
    "        )\n",
    "\n",
    "        self.fc2 = nn.Sequential(\n",
    "            nn.Linear(4096, num_classes),\n",
    "        )\n",
    "\n",
    "    def forward(self, x):\n",
    "        out = self.layer1(x)\n",
    "        out = self.layer2(out)\n",
    "        out = self.layer3(out)\n",
    "        out = self.layer4(out)\n",
    "        out = self.layer5(out)\n",
    "        out = self.layer6(out)\n",
    "        out = self.layer7(out)\n",
    "        out = self.layer8(out)\n",
    "        out = self.layer9(out)\n",
    "        out = self.layer10(out)\n",
    "        out = self.layer11(out)\n",
    "        out = self.layer12(out)\n",
    "        out = self.layer13(out)\n",
    "\n",
    "        out = out.reshape(out.size(0), -1)\n",
    "        out = self.fc(out)\n",
    "        out = self.fc1(out)\n",
    "        out = self.fc2(out)\n",
    "\n",
    "        return out"
   ]
  },
  {
   "cell_type": "code",
   "execution_count": 6,
   "id": "3e480fd8",
   "metadata": {
    "execution": {
     "iopub.execute_input": "2024-08-03T09:23:53.170017Z",
     "iopub.status.busy": "2024-08-03T09:23:53.169645Z",
     "iopub.status.idle": "2024-08-03T09:23:53.179664Z",
     "shell.execute_reply": "2024-08-03T09:23:53.178637Z"
    },
    "id": "Rwbzm4ukQxFk",
    "papermill": {
     "duration": 0.023321,
     "end_time": "2024-08-03T09:23:53.181844",
     "exception": false,
     "start_time": "2024-08-03T09:23:53.158523",
     "status": "completed"
    },
    "tags": []
   },
   "outputs": [],
   "source": [
    "def train(num_epochs, train_loader, valid_loader, classifier, criterion, optimizer, device):\n",
    "    for epoch in range(num_epochs):\n",
    "        for i, (images, labels) in enumerate(train_loader):\n",
    "            images, labels = images.to(device), labels.to(device)\n",
    "\n",
    "            #Forward Pass\n",
    "            outputs = classifier(images)\n",
    "            loss = criterion(outputs, labels)\n",
    "\n",
    "            #Back Propagation and optimizers\n",
    "            optimizer.zero_grad()  #W_new = W_old - LR * Gradient\n",
    "            loss.backward()\n",
    "            optimizer.step()\n",
    "\n",
    "        print(f\"Epoch [{epoch+1, num_epochs}], Step [{i+1}/{len(train_loader)}], Loss: {loss.item():.4f}\")\n",
    "\n",
    "        with torch.no_grad():\n",
    "            correct = 0\n",
    "            total = 0\n",
    "\n",
    "            for images, labels in valid_loader:\n",
    "                images = images.to(device)\n",
    "                labels = labels.to(device)\n",
    "\n",
    "                outputs = classifier(images)\n",
    "\n",
    "                _, predicted = torch.max(outputs.data, 1)\n",
    "\n",
    "                total += labels.size(0)\n",
    "\n",
    "                correct +=(predicted == labels).sum().item()\n",
    "                del images, labels, outputs\n",
    "\n",
    "            print(f'Accuracy of the model on validation data: {(correct/total)*100}%')"
   ]
  },
  {
   "cell_type": "code",
   "execution_count": 7,
   "id": "ded4403a",
   "metadata": {
    "execution": {
     "iopub.execute_input": "2024-08-03T09:23:53.203191Z",
     "iopub.status.busy": "2024-08-03T09:23:53.202792Z",
     "iopub.status.idle": "2024-08-03T09:23:53.211027Z",
     "shell.execute_reply": "2024-08-03T09:23:53.210145Z"
    },
    "id": "sJEk15ExWBDc",
    "papermill": {
     "duration": 0.021405,
     "end_time": "2024-08-03T09:23:53.213264",
     "exception": false,
     "start_time": "2024-08-03T09:23:53.191859",
     "status": "completed"
    },
    "tags": []
   },
   "outputs": [],
   "source": [
    "def evaluate(test_loader, classifier, criterion, device):\n",
    "    classifier.eval()\n",
    "    with torch.no_grad():\n",
    "        correct = 0\n",
    "        total = 0\n",
    "        total_loss = 0.0\n",
    "\n",
    "        for images, labels in test_loader:\n",
    "            images = images.to(device)\n",
    "            labels = labels.to(device)\n",
    "\n",
    "            outputs = classifier(images)\n",
    "            loss = criterion(outputs, labels)\n",
    "\n",
    "            _, predicted = torch.max(outputs, 1)\n",
    "            total += labels.size(0)\n",
    "            correct += (predicted == labels).sum().item()\n",
    "            total_loss += loss.item()\n",
    "\n",
    "        accuracy = (correct / total) * 100\n",
    "        average_loss = total_loss / total\n",
    "\n",
    "        print(f'Accuracy of the model on test data: {accuracy:.2f}%')\n",
    "        print(f'Average loss of the model on test data: {average_loss:.4f}')"
   ]
  },
  {
   "cell_type": "code",
   "execution_count": 8,
   "id": "4305b159",
   "metadata": {
    "execution": {
     "iopub.execute_input": "2024-08-03T09:23:53.234412Z",
     "iopub.status.busy": "2024-08-03T09:23:53.234032Z",
     "iopub.status.idle": "2024-08-03T09:23:55.039979Z",
     "shell.execute_reply": "2024-08-03T09:23:55.038845Z"
    },
    "id": "cYub3sguQ3Fh",
    "papermill": {
     "duration": 1.819804,
     "end_time": "2024-08-03T09:23:55.042838",
     "exception": false,
     "start_time": "2024-08-03T09:23:53.223034",
     "status": "completed"
    },
    "tags": []
   },
   "outputs": [],
   "source": [
    "num_classes = 100\n",
    "num_epochs = 20\n",
    "batch_size = 16\n",
    "learning_rate = 0.005\n",
    "\n",
    "vgg16_classifier = VGG16(num_classes).to(device)\n",
    "\n",
    "criterion = nn.CrossEntropyLoss()\n",
    "optimizer = torch.optim.SGD(vgg16_classifier.parameters(), lr=learning_rate, weight_decay = 0.005, momentum = 0.9)"
   ]
  },
  {
   "cell_type": "code",
   "execution_count": 9,
   "id": "dc33fcaa",
   "metadata": {
    "execution": {
     "iopub.execute_input": "2024-08-03T09:23:55.065466Z",
     "iopub.status.busy": "2024-08-03T09:23:55.065068Z",
     "iopub.status.idle": "2024-08-03T11:34:51.292572Z",
     "shell.execute_reply": "2024-08-03T11:34:51.291525Z"
    },
    "id": "llcqZYn1Ym7O",
    "outputId": "54a830cc-386f-4666-d817-dc21f257db0b",
    "papermill": {
     "duration": 7856.242007,
     "end_time": "2024-08-03T11:34:51.295259",
     "exception": false,
     "start_time": "2024-08-03T09:23:55.053252",
     "status": "completed"
    },
    "tags": []
   },
   "outputs": [
    {
     "name": "stdout",
     "output_type": "stream",
     "text": [
      "Epoch [(1, 20)], Step [704/704], Loss: 3.8030\n",
      "Accuracy of the model on validation data: 0.88%\n",
      "Epoch [(2, 20)], Step [704/704], Loss: 2.5507\n",
      "Accuracy of the model on validation data: 0.96%\n",
      "Epoch [(3, 20)], Step [704/704], Loss: 4.1271\n",
      "Accuracy of the model on validation data: 1.16%\n",
      "Epoch [(4, 20)], Step [704/704], Loss: 1.4106\n",
      "Accuracy of the model on validation data: 0.72%\n",
      "Epoch [(5, 20)], Step [704/704], Loss: 1.3709\n",
      "Accuracy of the model on validation data: 1.08%\n",
      "Epoch [(6, 20)], Step [704/704], Loss: 1.0132\n",
      "Accuracy of the model on validation data: 0.72%\n",
      "Epoch [(7, 20)], Step [704/704], Loss: 2.5442\n",
      "Accuracy of the model on validation data: 0.5%\n",
      "Epoch [(8, 20)], Step [704/704], Loss: 1.6641\n",
      "Accuracy of the model on validation data: 1.2%\n",
      "Epoch [(9, 20)], Step [704/704], Loss: 3.1967\n",
      "Accuracy of the model on validation data: 0.66%\n",
      "Epoch [(10, 20)], Step [704/704], Loss: 1.1313\n",
      "Accuracy of the model on validation data: 1.1199999999999999%\n",
      "Epoch [(11, 20)], Step [704/704], Loss: 1.2740\n",
      "Accuracy of the model on validation data: 0.54%\n",
      "Epoch [(12, 20)], Step [704/704], Loss: 1.1388\n",
      "Accuracy of the model on validation data: 0.52%\n",
      "Epoch [(13, 20)], Step [704/704], Loss: 1.1372\n",
      "Accuracy of the model on validation data: 1.28%\n",
      "Epoch [(14, 20)], Step [704/704], Loss: 2.6070\n",
      "Accuracy of the model on validation data: 0.8%\n",
      "Epoch [(15, 20)], Step [704/704], Loss: 1.2332\n",
      "Accuracy of the model on validation data: 0.45999999999999996%\n",
      "Epoch [(16, 20)], Step [704/704], Loss: 0.8211\n",
      "Accuracy of the model on validation data: 0.38%\n",
      "Epoch [(17, 20)], Step [704/704], Loss: 1.1226\n",
      "Accuracy of the model on validation data: 0.4%\n",
      "Epoch [(18, 20)], Step [704/704], Loss: 0.8963\n",
      "Accuracy of the model on validation data: 0.44%\n",
      "Epoch [(19, 20)], Step [704/704], Loss: 2.1319\n",
      "Accuracy of the model on validation data: 1.22%\n",
      "Epoch [(20, 20)], Step [704/704], Loss: 1.8347\n",
      "Accuracy of the model on validation data: 1.16%\n"
     ]
    }
   ],
   "source": [
    "train(num_epochs, train_loader, valid_loader, vgg16_classifier, criterion, optimizer, device)"
   ]
  },
  {
   "cell_type": "code",
   "execution_count": 10,
   "id": "d6364946",
   "metadata": {
    "execution": {
     "iopub.execute_input": "2024-08-03T11:34:51.324546Z",
     "iopub.status.busy": "2024-08-03T11:34:51.324139Z",
     "iopub.status.idle": "2024-08-03T11:35:33.300467Z",
     "shell.execute_reply": "2024-08-03T11:35:33.299536Z"
    },
    "id": "EIgSCQjIYoGM",
    "papermill": {
     "duration": 42.006521,
     "end_time": "2024-08-03T11:35:33.315467",
     "exception": false,
     "start_time": "2024-08-03T11:34:51.308946",
     "status": "completed"
    },
    "tags": []
   },
   "outputs": [
    {
     "name": "stdout",
     "output_type": "stream",
     "text": [
      "Accuracy of the model on test data: 56.62%\n",
      "Average loss of the model on test data: 0.0247\n"
     ]
    }
   ],
   "source": [
    "evaluate(test_loader, vgg16_classifier, criterion, device)"
   ]
  }
 ],
 "metadata": {
  "accelerator": "GPU",
  "colab": {
   "gpuType": "T4",
   "provenance": []
  },
  "kaggle": {
   "accelerator": "gpu",
   "dataSources": [],
   "dockerImageVersionId": 30747,
   "isGpuEnabled": true,
   "isInternetEnabled": true,
   "language": "python",
   "sourceType": "notebook"
  },
  "kernelspec": {
   "display_name": "Python 3",
   "language": "python",
   "name": "python3"
  },
  "language_info": {
   "codemirror_mode": {
    "name": "ipython",
    "version": 3
   },
   "file_extension": ".py",
   "mimetype": "text/x-python",
   "name": "python",
   "nbconvert_exporter": "python",
   "pygments_lexer": "ipython3",
   "version": "3.10.13"
  },
  "papermill": {
   "default_parameters": {},
   "duration": 7925.216665,
   "end_time": "2024-08-03T11:35:35.901022",
   "environment_variables": {},
   "exception": null,
   "input_path": "__notebook__.ipynb",
   "output_path": "__notebook__.ipynb",
   "parameters": {},
   "start_time": "2024-08-03T09:23:30.684357",
   "version": "2.5.0"
  }
 },
 "nbformat": 4,
 "nbformat_minor": 5
}
